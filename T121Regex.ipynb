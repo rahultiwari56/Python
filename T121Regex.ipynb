{
 "cells": [
  {
   "cell_type": "code",
   "execution_count": 2,
   "metadata": {},
   "outputs": [
    {
     "name": "stdout",
     "output_type": "stream",
     "text": [
      "['A', 'ASCII', 'DEBUG', 'DOTALL', 'I', 'IGNORECASE', 'L', 'LOCALE', 'M', 'MULTILINE', 'Match', 'Pattern', 'RegexFlag', 'S', 'Scanner', 'T', 'TEMPLATE', 'U', 'UNICODE', 'VERBOSE', 'X', '_MAXCACHE', '__all__', '__builtins__', '__cached__', '__doc__', '__file__', '__loader__', '__name__', '__package__', '__spec__', '__version__', '_cache', '_compile', '_compile_repl', '_expand', '_locale', '_pickle', '_special_chars_map', '_subx', 'compile', 'copyreg', 'enum', 'error', 'escape', 'findall', 'finditer', 'fullmatch', 'functools', 'match', 'purge', 'search', 'split', 'sre_compile', 'sre_parse', 'sub', 'subn', 'template']\n"
     ]
    }
   ],
   "source": [
    "import re\n",
    "print(dir(re))"
   ]
  },
  {
   "cell_type": "code",
   "execution_count": 7,
   "metadata": {},
   "outputs": [
    {
     "name": "stdout",
     "output_type": "stream",
     "text": [
      "<re.Match object; span=(2, 4), match='is'>\n",
      "None\n",
      "<re.Match object; span=(2, 4), match='is'>\n"
     ]
    }
   ],
   "source": [
    "s = 'this is a string'\n",
    "res = re.search('is', s)\n",
    "print(res)\n",
    "\n",
    "s = 'this is a string'\n",
    "res = re.search('IS', s)\n",
    "print(res)\n",
    "\n",
    "s = 'this is a Is string'\n",
    "res = re.search('IS', s, re.IGNORECASE)\n",
    "print(res)"
   ]
  },
  {
   "cell_type": "code",
   "execution_count": 8,
   "metadata": {},
   "outputs": [
    {
     "name": "stdout",
     "output_type": "stream",
     "text": [
      "<re.Match object; span=(2, 4), match='is'>\n",
      "<re.Match object; span=(5, 7), match='is'>\n",
      "<re.Match object; span=(10, 12), match='Is'>\n"
     ]
    }
   ],
   "source": [
    "\n",
    "s = 'this is a Is string'\n",
    "for res in re.finditer('IS', s, re.IGNORECASE):\n",
    "    print(res)"
   ]
  },
  {
   "cell_type": "code",
   "execution_count": 10,
   "metadata": {},
   "outputs": [
    {
     "name": "stdout",
     "output_type": "stream",
     "text": [
      "<re.Match object; span=(10, 11), match='1'>\n",
      "<re.Match object; span=(11, 12), match='2'>\n",
      "<re.Match object; span=(12, 13), match='3'>\n",
      "<re.Match object; span=(13, 14), match='4'>\n",
      "<re.Match object; span=(15, 16), match='1'>\n",
      "<re.Match object; span=(16, 17), match='2'>\n",
      "<re.Match object; span=(17, 18), match='3'>\n",
      "<re.Match object; span=(26, 27), match='1'>\n",
      "<re.Match object; span=(27, 28), match='2'>\n",
      "<re.Match object; span=(28, 29), match='3'>\n"
     ]
    }
   ],
   "source": [
    "\"\"\"\n",
    "\\d - digit\n",
    "\\D - not digit\n",
    "\\w - alpha-numeric\n",
    "\\W - not\n",
    "\\s - white space \n",
    "\\S - not white space\n",
    "\"\"\"\n",
    "s = 'this is a 1234 123 Is stri123ng'\n",
    "for res in re.finditer(r'\\d', s, re.IGNORECASE):\n",
    "    print(res)"
   ]
  },
  {
   "cell_type": "code",
   "execution_count": 12,
   "metadata": {},
   "outputs": [
    {
     "name": "stdout",
     "output_type": "stream",
     "text": [
      "<re.Match object; span=(2, 6), match=' 99 '>\n"
     ]
    }
   ],
   "source": [
    "\"\"\"\n",
    "\\d - digit\n",
    "\\D - not digit\n",
    "\\w - alpha-numeric\n",
    "\\W - not\n",
    "\\s - white space \n",
    "\\S - not white space\n",
    "\"\"\"\n",
    "s = '34 99 123 1234 stri123ng'\n",
    "for res in re.finditer(r'\\s\\d\\d\\s', s, re.IGNORECASE):\n",
    "    print(res)"
   ]
  },
  {
   "cell_type": "code",
   "execution_count": 13,
   "metadata": {},
   "outputs": [
    {
     "name": "stdout",
     "output_type": "stream",
     "text": [
      "<re.Match object; span=(0, 2), match='34'>\n",
      "<re.Match object; span=(3, 5), match='99'>\n"
     ]
    }
   ],
   "source": [
    "# \\b - word boundary .,; end-of-string, start-of- string\n",
    "s = '34 99 123 1234 stri123ng'\n",
    "for res in re.finditer(r'\\b\\d\\d\\b', s, re.IGNORECASE):\n",
    "    print(res)"
   ]
  },
  {
   "cell_type": "code",
   "execution_count": 17,
   "metadata": {},
   "outputs": [
    {
     "name": "stdout",
     "output_type": "stream",
     "text": [
      "<re.Match object; span=(0, 2), match='34'>\n",
      "<re.Match object; span=(3, 5), match='99'>\n",
      "<re.Match object; span=(6, 9), match='123'>\n",
      "<re.Match object; span=(10, 14), match='1234'>\n"
     ]
    }
   ],
   "source": [
    "\"\"\"\n",
    "Repetition:\n",
    "* - 0-n\n",
    "+ - 1-n\n",
    "? - 0,1\n",
    "*? - non greedy\n",
    "+? - non - greedy\n",
    "\"\"\"\n",
    "# \\b - word boundary .,; end-of-string, start-of- string\n",
    "s = '34 99 123 1234 stri123ng'\n",
    "for res in re.finditer(r'\\b\\d+\\b', s, re.IGNORECASE):\n",
    "    print(res)\n",
    "\n"
   ]
  },
  {
   "cell_type": "code",
   "execution_count": 23,
   "metadata": {},
   "outputs": [
    {
     "name": "stdout",
     "output_type": "stream",
     "text": [
      "this is string   ---- <re.Match object; span=(0, 2), match='th'>\n",
      "the string  ---- <re.Match object; span=(0, 2), match='th'>\n",
      "hat that string  ---- <re.Match object; span=(4, 6), match='th'>\n",
      "that  ---- <re.Match object; span=(0, 2), match='th'>\n",
      "string abc  ---- None\n"
     ]
    }
   ],
   "source": [
    "a = ['this is string ', 'the string', 'hat that string', 'that', 'string abc']\n",
    "\n",
    "for s in a:\n",
    "    print(s, ' ----',  re.search('th', s))"
   ]
  },
  {
   "cell_type": "code",
   "execution_count": 24,
   "metadata": {},
   "outputs": [
    {
     "name": "stdout",
     "output_type": "stream",
     "text": [
      "this is string   ---- <re.Match object; span=(0, 2), match='th'>\n",
      "the string  ---- <re.Match object; span=(0, 2), match='th'>\n",
      "hat that string  ---- None\n",
      "that  ---- <re.Match object; span=(0, 2), match='th'>\n",
      "string abc  ---- None\n"
     ]
    }
   ],
   "source": [
    "\"\"\"\n",
    "anchor\n",
    "^ - start\n",
    "$ - end\n",
    "\"\"\"\n",
    "a = ['this is string ', 'the string', 'hat that string', 'that', 'string abc']\n",
    "\n",
    "for s in a:\n",
    "    print(s, ' ----',  re.search('^th', s))"
   ]
  },
  {
   "cell_type": "code",
   "execution_count": 25,
   "metadata": {},
   "outputs": [
    {
     "name": "stdout",
     "output_type": "stream",
     "text": [
      "this is string   ---- None\n",
      "the string  ---- <re.Match object; span=(7, 10), match='ing'>\n",
      "hat that string  ---- <re.Match object; span=(12, 15), match='ing'>\n",
      "that  ---- None\n",
      "string abc  ---- None\n"
     ]
    }
   ],
   "source": [
    "\"\"\"\n",
    "anchor\n",
    "^ - start\n",
    "$ - end\n",
    "\"\"\"\n",
    "a = ['this is string ', 'the string', 'hat that string', 'that', 'string abc']\n",
    "# end with 'ing'\n",
    "for s in a:\n",
    "    print(s, ' ----',  re.search('ing$', s))"
   ]
  },
  {
   "cell_type": "code",
   "execution_count": 29,
   "metadata": {},
   "outputs": [
    {
     "name": "stdout",
     "output_type": "stream",
     "text": [
      "this is string  ---- <re.Match object; span=(0, 14), match='this is string'>\n",
      "the string  ---- <re.Match object; span=(0, 10), match='the string'>\n",
      "hat that string  ---- None\n",
      "that  ---- None\n",
      "string abc  ---- None\n"
     ]
    }
   ],
   "source": [
    "\"\"\"\n",
    "anchor\n",
    "^ - start\n",
    "$ - end\n",
    "\"\"\"\n",
    "# start with 'th' and end with 'ing'\n",
    "a = ['this is string', 'the string', 'hat that string', 'that', 'string abc']\n",
    "\n",
    "for s in a:\n",
    "    print(s, ' ----',  re.search('^th.*ing$', s))"
   ]
  },
  {
   "cell_type": "code",
   "execution_count": 32,
   "metadata": {},
   "outputs": [
    {
     "name": "stdout",
     "output_type": "stream",
     "text": [
      "<re.Match object; span=(0, 4), match='1234'>\n",
      "<re.Match object; span=(13, 17), match='9999'>\n",
      "<re.Match object; span=(26, 30), match='8765'>\n"
     ]
    }
   ],
   "source": [
    "# Repetition\n",
    "# {min:max}\n",
    "\n",
    "s = '1234 1234567 9999 99 9 88 8765'\n",
    "for res in re.finditer(r'\\b\\d{4,6}\\b', s):\n",
    "    print(res)"
   ]
  },
  {
   "cell_type": "code",
   "execution_count": 43,
   "metadata": {},
   "outputs": [
    {
     "name": "stdout",
     "output_type": "stream",
     "text": [
      "<re.Match object; span=(0, 4), match='this'>\n",
      "<re.Match object; span=(5, 7), match='is'>\n",
      "<re.Match object; span=(8, 9), match='a'>\n",
      "<re.Match object; span=(10, 16), match='String'>\n",
      "<re.Match object; span=(17, 21), match='next'>\n",
      "<re.Match object; span=(22, 26), match='line'>\n",
      "<re.Match object; span=(31, 35), match='abcd'>\n",
      "<re.Match object; span=(42, 46), match='this'>\n"
     ]
    }
   ],
   "source": [
    "# search set\n",
    "# [a-z]\n",
    "# [a-zA-Z]\n",
    "# [aeiou0-9?]\n",
    "# [^aeiou0-9?] : invert a search set via ^\n",
    "\n",
    "s = 'this is a String.next line.123 abcd 12ab1 this'\n",
    "\n",
    "for res in re.finditer(r'\\b[a-zA-Z]+\\b', s):\n",
    "    print(res)"
   ]
  },
  {
   "cell_type": "code",
   "execution_count": 44,
   "metadata": {},
   "outputs": [
    {
     "name": "stdout",
     "output_type": "stream",
     "text": [
      "<re.Match object; span=(0, 2), match='12'>\n",
      "<re.Match object; span=(3, 5), match='34'>\n",
      "<re.Match object; span=(6, 9), match='123'>\n",
      "<re.Match object; span=(10, 12), match='45'>\n",
      "<re.Match object; span=(13, 15), match='67'>\n",
      "<re.Match object; span=(16, 17), match='9'>\n",
      "<re.Match object; span=(18, 21), match='999'>\n",
      "<re.Match object; span=(22, 24), match='99'>\n",
      "<re.Match object; span=(25, 26), match='9'>\n",
      "<re.Match object; span=(27, 29), match='88'>\n",
      "<re.Match object; span=(30, 32), match='87'>\n",
      "<re.Match object; span=(33, 35), match='65'>\n",
      "<re.Match object; span=(0, 5), match='12.34'>\n",
      "<re.Match object; span=(6, 12), match='123.45'>\n",
      "<re.Match object; span=(16, 21), match='9.999'>\n",
      "<re.Match object; span=(30, 35), match='87.65'>\n"
     ]
    }
   ],
   "source": [
    "s = '12.34 123.45.67 9.999 99 9 88 87.65'\n",
    "\n",
    "for res in re.finditer(r'\\b\\d+\\b', s):\n",
    "    print(res)\n",
    "    "
   ]
  },
  {
   "cell_type": "code",
   "execution_count": 64,
   "metadata": {},
   "outputs": [
    {
     "name": "stdout",
     "output_type": "stream",
     "text": [
      "<re.Match object; span=(0, 6), match='12.34 '> ('', ' ')\n",
      "<re.Match object; span=(15, 22), match=' 9.999 '> (' ', ' ')\n",
      "<re.Match object; span=(29, 35), match=' 87.65'> (' ', '')\n"
     ]
    }
   ],
   "source": [
    "s = '12.34 123.45.67 9.999 99 9 88 87.65'\n",
    "    \n",
    "for res in re.finditer(r'(^|[^.\\da-zA-Z])\\d+\\.\\d+([^.\\da-zA-Z]|$)', s):\n",
    "    print(res, res.groups())"
   ]
  },
  {
   "cell_type": "code",
   "execution_count": 3,
   "metadata": {},
   "outputs": [
    {
     "name": "stdout",
     "output_type": "stream",
     "text": [
      "<re.Match object; span=(0, 14), match='+91 9999999999'>\n",
      "+91 9999999999 ('91', '9999999999')\n"
     ]
    }
   ],
   "source": [
    "s = '+91 9999999999'\n",
    "\n",
    "m = re.search(r'\\+(\\d{1,2}) (\\d{10})', s)\n",
    "print(m)\n",
    "print(m.group(), m.groups())"
   ]
  },
  {
   "cell_type": "code",
   "execution_count": null,
   "metadata": {},
   "outputs": [],
   "source": []
  }
 ],
 "metadata": {
  "kernelspec": {
   "display_name": "Python 3",
   "language": "python",
   "name": "python3"
  },
  "language_info": {
   "codemirror_mode": {
    "name": "ipython",
    "version": 3
   },
   "file_extension": ".py",
   "mimetype": "text/x-python",
   "name": "python",
   "nbconvert_exporter": "python",
   "pygments_lexer": "ipython3",
   "version": "3.7.3"
  }
 },
 "nbformat": 4,
 "nbformat_minor": 2
}
