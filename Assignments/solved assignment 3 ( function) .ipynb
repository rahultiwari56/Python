{
 "cells": [
  {
   "cell_type": "code",
   "execution_count": 3,
   "metadata": {},
   "outputs": [
    {
     "name": "stdout",
     "output_type": "stream",
     "text": [
      "rahul\n",
      "haxora\n",
      "haxora\n",
      "rahul\n"
     ]
    }
   ],
   "source": [
    "# Q1\n",
    "a = input()\n",
    "b = input()\n",
    "a,b=b,a\n",
    "print(a)\n",
    "print(b)"
   ]
  },
  {
   "cell_type": "code",
   "execution_count": 29,
   "metadata": {},
   "outputs": [
    {
     "name": "stdout",
     "output_type": "stream",
     "text": [
      "23\n",
      "26\n",
      "0\n",
      "4\n",
      "Randomised list is:  13.25\n"
     ]
    }
   ],
   "source": [
    "# Q2\n",
    "import random\n",
    "sum=0\n",
    "for j in range(4):\n",
    "    a=(random.randint(0,26))\n",
    "    print(a)\n",
    "    sum=a+sum\n",
    "    avg=sum/4\n",
    "print('Randomised list is: ',avg)"
   ]
  },
  {
   "cell_type": "code",
   "execution_count": 32,
   "metadata": {},
   "outputs": [
    {
     "name": "stdout",
     "output_type": "stream",
     "text": [
      "w\n"
     ]
    }
   ],
   "source": [
    "# Q3\n",
    "import string\n",
    "import random\n",
    "a = \"abcdefghijklmnopqrstuvwxyz\"\n",
    "b=random.choice(a)\n",
    "print(b)"
   ]
  },
  {
   "cell_type": "code",
   "execution_count": 40,
   "metadata": {},
   "outputs": [
    {
     "name": "stdout",
     "output_type": "stream",
     "text": [
      "c\n",
      "Q\n"
     ]
    }
   ],
   "source": [
    "# Q3\n",
    "import string\n",
    "import random\n",
    "a = \"abcdefghijklmnopqrstuvwxyz\"\n",
    "b=random.choice(a)\n",
    "print(b)\n",
    "b=random.choice(a)\n",
    "print(b.upper())"
   ]
  },
  {
   "cell_type": "code",
   "execution_count": 32,
   "metadata": {},
   "outputs": [
    {
     "name": "stdout",
     "output_type": "stream",
     "text": [
      "1.0\n"
     ]
    }
   ],
   "source": [
    "# Q4\n",
    "def get_si(p,n,r):\n",
    "    si = (p*n*r)/100\n",
    "    return si\n",
    "print(get_si(10,10,1))"
   ]
  },
  {
   "cell_type": "code",
   "execution_count": 36,
   "metadata": {},
   "outputs": [
    {
     "name": "stdout",
     "output_type": "stream",
     "text": [
      "2000.0\n"
     ]
    }
   ],
   "source": [
    "# Q5\n",
    "def get_amount(p,n,r=10,t=1):\n",
    "    sum= p*(1 + r/n)*n*t\n",
    "    return sum\n",
    "\n",
    "print(get_amount(100,10))\n",
    "\n"
   ]
  },
  {
   "cell_type": "code",
   "execution_count": 42,
   "metadata": {},
   "outputs": [
    {
     "name": "stdout",
     "output_type": "stream",
     "text": [
      "14416.259765625\n"
     ]
    }
   ],
   "source": [
    "# Q6  WAP get_ci() that takes Principle, Rate and Time as arguments and returns the Compound Interest\n",
    "\n",
    "def get_ci(p,r,t):\n",
    "    ci= p*((1+(r/100))**t)\n",
    "    return ci\n",
    "print(get_ci(250,50,10))"
   ]
  },
  {
   "cell_type": "code",
   "execution_count": 44,
   "metadata": {},
   "outputs": [
    {
     "name": "stdout",
     "output_type": "stream",
     "text": [
      "(0.8, 4)\n"
     ]
    }
   ],
   "source": [
    "# Q7 WAP get_q_r() taking 2 numbers as parameters and returns the quotient and remainder in the form of a tuple\n",
    "\n",
    "def get_q_r(q,r):\n",
    "    qr = (q/r,q%r)\n",
    "    return qr\n",
    "print(get_q_r(4,5))\n"
   ]
  },
  {
   "cell_type": "code",
   "execution_count": 1,
   "metadata": {},
   "outputs": [
    {
     "name": "stdout",
     "output_type": "stream",
     "text": [
      "2\n",
      "3\n",
      "3.605551275463989\n"
     ]
    }
   ],
   "source": [
    "# Q8  WAP to find the length of hypotenuse of a right angled triangle, input the height and base from user\n",
    "\n",
    "from math import sqrt\n",
    "def tri(b,h):\n",
    "    c = sqrt(b**2+h**2)  # c-hypotenuse\n",
    "    return c\n",
    "\n",
    "p=int(input())\n",
    "q=int(input())\n",
    "print(tri(p,q))\n"
   ]
  },
  {
   "cell_type": "code",
   "execution_count": 2,
   "metadata": {},
   "outputs": [
    {
     "name": "stdout",
     "output_type": "stream",
     "text": [
      "Enter seconds=10000\n",
      "0 day 2 hour 46 minutes 40 seconds\n"
     ]
    }
   ],
   "source": [
    "# Q9 WAP to input number of seconds and print in days, hours, minutes and seconds \n",
    "sec = int(input('Enter seconds='))\n",
    "day = sec // (24 * 3600)\n",
    "sec = sec % (24 * 3600)\n",
    "hour = sec // 3600\n",
    "sec %= 3600\n",
    "minutes = sec // 60\n",
    "sec %= 60\n",
    "seconds = sec\n",
    "\n",
    "output=\"{} day {} hour {} minutes {} seconds\".format(day,hour,minutes,seconds)\n",
    "print(output)"
   ]
  },
  {
   "cell_type": "code",
   "execution_count": 3,
   "metadata": {},
   "outputs": [
    {
     "name": "stdout",
     "output_type": "stream",
     "text": [
      "3.7.3\n"
     ]
    }
   ],
   "source": [
    "# Q10 Check your version of python interpreter without opening the interpreter (Which command needs to be used on the command line)\n",
    "\n",
    "from platform import python_version\n",
    "print(python_version())"
   ]
  },
  {
   "cell_type": "code",
   "execution_count": 4,
   "metadata": {},
   "outputs": [
    {
     "name": "stdout",
     "output_type": "stream",
     "text": [
      "2 -2\n"
     ]
    }
   ],
   "source": [
    "# Q11 Find Output\n",
    "\n",
    "x = 2\n",
    "x *= 3\n",
    "x = x%4\n",
    "y = - x\n",
    "print(x,y)"
   ]
  },
  {
   "cell_type": "code",
   "execution_count": 5,
   "metadata": {},
   "outputs": [
    {
     "name": "stdout",
     "output_type": "stream",
     "text": [
      "None\n"
     ]
    }
   ],
   "source": [
    "# Q12 Find Output\n",
    "\n",
    "def funct():\n",
    "    pass\n",
    "print(funct())"
   ]
  },
  {
   "cell_type": "code",
   "execution_count": 6,
   "metadata": {},
   "outputs": [
    {
     "name": "stdout",
     "output_type": "stream",
     "text": [
      "Enter real part = 2\n",
      "Enter imaginary part = -9\n",
      "re:2 im:-9\n"
     ]
    }
   ],
   "source": [
    "# Q13 WAP to input the real and imaginary part of a complex number and print it on screen. output should look like   re:10 im:20  \n",
    "\n",
    "re = int(input(\"Enter real part = \"))\n",
    "im = int(input(\"Enter imaginary part = \"))\n",
    "\n",
    "print(\"re:{} im:{}\".format(re,im))"
   ]
  },
  {
   "cell_type": "code",
   "execution_count": 7,
   "metadata": {},
   "outputs": [
    {
     "name": "stdout",
     "output_type": "stream",
     "text": [
      "enter real = 2\n",
      "enter imaginary = -7\n",
      "(2, -7)\n",
      "re = 120 im = 250\n"
     ]
    }
   ],
   "source": [
    "# Q14 reate a functions input_complex() and print_complex()\n",
    "\n",
    "def input_complex():\n",
    "    re = int(input(\"enter real = \"))\n",
    "    im = int(input(\"enter imaginary = \"))\n",
    "    return re,im\n",
    "    \n",
    "s = input_complex()\n",
    "print(s)\n",
    "\n",
    "def print_complex(re,im):\n",
    "    print(\"re = {} im = {}\".format(re,im))\n",
    "   \n",
    "print_complex(120,250)"
   ]
  },
  {
   "cell_type": "code",
   "execution_count": 20,
   "metadata": {},
   "outputs": [
    {
     "name": "stdout",
     "output_type": "stream",
     "text": [
      "add =  (20, -5)\n",
      "sub =  (-10, 25)\n"
     ]
    }
   ],
   "source": [
    "# Q15 Update complex.py to add another function \n",
    "\n",
    "def add(re1,im1,re2,im2):\n",
    "      return re1+re2 , im1+im2\n",
    "    \n",
    "ad = add(5,10,15,-15)\n",
    "print(\"add = \",ad)\n",
    "\n",
    "def sub(re1,im1,re2,im2):\n",
    "    return re1-re2 , im1-im2\n",
    "    \n",
    "sb = sub(5,10,15,-15)\n",
    "print(\"sub = \",sb)"
   ]
  },
  {
   "cell_type": "code",
   "execution_count": 27,
   "metadata": {},
   "outputs": [
    {
     "name": "stdout",
     "output_type": "stream",
     "text": [
      "conjugate is =  (5, 15)\n",
      "mul =  (75, -150)\n",
      "div =  (3.0, -1.5)\n"
     ]
    }
   ],
   "source": [
    "# Q16 Update complex.py with the functions\n",
    "\n",
    "def conj(re,im):\n",
    "      return re,-im\n",
    "    \n",
    "a = conj(5,-15)\n",
    "print(\"conjugate is = \",a)\n",
    "\n",
    "def mul(re1,im1,re2,im2):\n",
    "    return re1*re2 , im1*im2\n",
    "\n",
    "ml = mul(5,10,15,-15)\n",
    "print(\"mul = \",ml)\n",
    "\n",
    "def div(re1,im1,re2,im2):\n",
    "    return re2/re1 , im2/im1\n",
    "\n",
    "dv = div(5,10,15,-15)\n",
    "print(\"div = \",dv)"
   ]
  },
  {
   "cell_type": "code",
   "execution_count": null,
   "metadata": {},
   "outputs": [],
   "source": []
  }
 ],
 "metadata": {
  "kernelspec": {
   "display_name": "Python 3",
   "language": "python",
   "name": "python3"
  },
  "language_info": {
   "codemirror_mode": {
    "name": "ipython",
    "version": 3
   },
   "file_extension": ".py",
   "mimetype": "text/x-python",
   "name": "python",
   "nbconvert_exporter": "python",
   "pygments_lexer": "ipython3",
   "version": "3.7.3"
  }
 },
 "nbformat": 4,
 "nbformat_minor": 2
}
