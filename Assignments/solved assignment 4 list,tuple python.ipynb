{
 "cells": [
  {
   "cell_type": "code",
   "execution_count": 27,
   "metadata": {},
   "outputs": [
    {
     "name": "stdout",
     "output_type": "stream",
     "text": [
      "[1, 2, 3, 4, 5]\n"
     ]
    }
   ],
   "source": [
    "# Q1 Convert a Tuple t = (1,2,3,4,5) to a list\n",
    "\n",
    "t = (1,2,3,4,5)\n",
    "a = list(t)\n",
    "print(a)"
   ]
  },
  {
   "cell_type": "code",
   "execution_count": 36,
   "metadata": {},
   "outputs": [
    {
     "name": "stdout",
     "output_type": "stream",
     "text": [
      "[1, 3, 5, 7, 8, 6, 4, 2]\n"
     ]
    }
   ],
   "source": [
    "# Q2 WAP to join a list and a tuple\n",
    "L = [1,3,5,7]\n",
    "T = (8,6,4,2)\n",
    "L.extend(T)\n",
    "print(L)"
   ]
  },
  {
   "cell_type": "code",
   "execution_count": null,
   "metadata": {},
   "outputs": [],
   "source": [
    "# Q3 What is difference between list and tuple\n",
    "\n",
    "      list\n",
    "- lists are mutable\n",
    "- [] denotes lists\n",
    "\n",
    "      tuple\n",
    "- tuples are immutable\n",
    "- () denotes tuple"
   ]
  },
  {
   "cell_type": "code",
   "execution_count": 52,
   "metadata": {},
   "outputs": [
    {
     "name": "stdout",
     "output_type": "stream",
     "text": [
      "['C', 'A', 'c', 'd', 'a']\n"
     ]
    }
   ],
   "source": [
    "# Q4 Print the list in reverse order \n",
    "\n",
    "l = ['a', 'd', 'c', 'A', 'C']\n",
    "l.reverse()\n",
    "print(l)"
   ]
  },
  {
   "cell_type": "code",
   "execution_count": 57,
   "metadata": {},
   "outputs": [
    {
     "name": "stdout",
     "output_type": "stream",
     "text": [
      "[11, 21, 31, 41]\n"
     ]
    }
   ],
   "source": [
    "# Q5 Print Elements at Odd indexes from a list without using loop\n",
    "\n",
    "l = [10,11,20, 21,30, 31, 40, 41]\n",
    "print(l[1::2])"
   ]
  },
  {
   "cell_type": "code",
   "execution_count": 8,
   "metadata": {},
   "outputs": [
    {
     "name": "stdout",
     "output_type": "stream",
     "text": [
      "['a', 20, 50, 'w']\n",
      "['a', 20, 50, 'w']\n",
      "['a', 20, 50, 'w']\n"
     ]
    }
   ],
   "source": [
    "# Q6 How many ways you can copy a list\n",
    "\n",
    "list = ['a',20,50,'w']\n",
    "\n",
    "list3 = list\n",
    "print(list3) \n",
    "\n",
    "list1 = list.copy()\n",
    "print(list1)\n",
    "\n",
    "list2 = list[:]\n",
    "print(list2)"
   ]
  },
  {
   "cell_type": "code",
   "execution_count": 11,
   "metadata": {},
   "outputs": [
    {
     "name": "stdout",
     "output_type": "stream",
     "text": [
      "a\n",
      "5\n"
     ]
    }
   ],
   "source": [
    "# Q7 Predict output\n",
    "\n",
    "n_list = [\"Happy\", [2,0,1,5]]\n",
    "print(n_list[0][1])\n",
    "print(n_list[1][3])"
   ]
  },
  {
   "cell_type": "code",
   "execution_count": 12,
   "metadata": {},
   "outputs": [
    {
     "name": "stdout",
     "output_type": "stream",
     "text": [
      "[1, 4, 6, 8]\n",
      "[1, 3, 5, 7]\n"
     ]
    }
   ],
   "source": [
    "# Q8 Predict output\n",
    "\n",
    "odd = [2, 4, 6, 8]\n",
    "odd[0] = 1\n",
    "print(odd)\n",
    "odd[1:4] = [3, 5, 7]\n",
    "print(odd)"
   ]
  },
  {
   "cell_type": "code",
   "execution_count": 13,
   "metadata": {},
   "outputs": [
    {
     "name": "stdout",
     "output_type": "stream",
     "text": [
      "[1, 3, 5, [7, 9]]\n",
      "[1, 3, 5, [7, 9], 11, 13]\n"
     ]
    }
   ],
   "source": [
    "# Q9 Predict output\n",
    "\n",
    "odd = [1, 3, 5]\n",
    "odd.append([7,9])\n",
    "print(odd)\n",
    "odd.extend([11,13])\n",
    "print(odd)"
   ]
  },
  {
   "cell_type": "code",
   "execution_count": 22,
   "metadata": {},
   "outputs": [
    {
     "name": "stdout",
     "output_type": "stream",
     "text": [
      "<class 'tuple'>\n",
      "<class 'int'>\n",
      "<class 'tuple'>\n"
     ]
    }
   ],
   "source": [
    "# Q10 notePredict output\n",
    "\n",
    "x = 1,2,3\n",
    "print(type(x))\n",
    "\n",
    "x = (1)\n",
    "print(type(x))\n",
    "\n",
    "x = 1,\n",
    "print(type(x))"
   ]
  },
  {
   "cell_type": "code",
   "execution_count": 44,
   "metadata": {},
   "outputs": [
    {
     "name": "stdout",
     "output_type": "stream",
     "text": [
      "1 2 3 \n",
      "4 5 6 \n",
      "7 8 9 \n"
     ]
    }
   ],
   "source": [
    "# Q11  Try to represent a matrix with following data in python\n",
    "\n",
    "m=[[1,2,3],[4,5,6],[7,8,9]]\n",
    "a = m[0]\n",
    "l=len(a)\n",
    "\n",
    "for i in range(len(m)):\n",
    "    for j in range(len(a)):\n",
    "        print(m[i][j],end=' ')\n",
    "    print()"
   ]
  },
  {
   "cell_type": "code",
   "execution_count": 67,
   "metadata": {},
   "outputs": [
    {
     "name": "stdout",
     "output_type": "stream",
     "text": [
      "('s', 't', 'r', 'i', 'n', 'g')\n",
      "('g', 'i', 't')\n",
      "('r', 's')\n"
     ]
    }
   ],
   "source": [
    "# Q12 Predict output\n",
    "\n",
    "t = tuple('string')\n",
    "print(t)\n",
    "print(t[::-2])\n",
    "print(t[2::-2])"
   ]
  },
  {
   "cell_type": "code",
   "execution_count": 73,
   "metadata": {},
   "outputs": [
    {
     "name": "stdout",
     "output_type": "stream",
     "text": [
      "True\n",
      "False\n",
      "1\n",
      "3\n"
     ]
    }
   ],
   "source": [
    "# Q13 Predict output\n",
    "\n",
    "t = tuple ( [10,20,30,40,50,60] )\n",
    "print( 60 in t)\n",
    "print( '60' in t)\n",
    "print( t.count(10) )\n",
    "print( t.index(40) )"
   ]
  },
  {
   "cell_type": "code",
   "execution_count": 75,
   "metadata": {},
   "outputs": [
    {
     "name": "stdout",
     "output_type": "stream",
     "text": [
      "level\n",
      "String is palindrome\n"
     ]
    }
   ],
   "source": [
    "# Q14  Write a program to input a string and print if it is palindrome or not\n",
    "\n",
    "string = input()\n",
    "\n",
    "if string[:]==string[::-1]:\n",
    "    print(\"String is palindrome\")\n",
    "else:\n",
    "    print(\"String is not a palindrome\")"
   ]
  },
  {
   "cell_type": "code",
   "execution_count": 79,
   "metadata": {},
   "outputs": [
    {
     "name": "stdout",
     "output_type": "stream",
     "text": [
      "(20, 15, 10, 5)\n"
     ]
    }
   ],
   "source": [
    "# Q15 Use the range method and create a tuple containing the following values\n",
    "\n",
    "p=[]\n",
    "for i in range(20,4,-5):\n",
    "    p.append(i)\n",
    "a=tuple(p)\n",
    "print(a)"
   ]
  },
  {
   "cell_type": "code",
   "execution_count": 1,
   "metadata": {},
   "outputs": [
    {
     "name": "stdout",
     "output_type": "stream",
     "text": [
      "enter string : rahul\n",
      "['r', 'a', 'h', 'u', 'l']\n"
     ]
    }
   ],
   "source": [
    "# Q16 WAP to convert string to list of characters\n",
    "a =input( \"enter string : \" )\n",
    "t=tuple(a)\n",
    "w=list(t)\n",
    "print(w)"
   ]
  },
  {
   "cell_type": "code",
   "execution_count": 5,
   "metadata": {},
   "outputs": [
    {
     "name": "stdout",
     "output_type": "stream",
     "text": [
      "<class 'list'>\n",
      "<class 'NoneType'>\n",
      "<class 'str'>\n",
      "<class 'bool'>\n"
     ]
    }
   ],
   "source": [
    "# Q17 What is the return type of:\n",
    "\n",
    "print(type( '1 2'.split() ))\n",
    "print(type( [1, 3, 2].sort() ))\n",
    "print(type( 'abc'.upper() ))\n",
    "print(type( 1 in [1, 2] ))"
   ]
  },
  {
   "cell_type": "code",
   "execution_count": null,
   "metadata": {},
   "outputs": [],
   "source": []
  }
 ],
 "metadata": {
  "kernelspec": {
   "display_name": "Python 3",
   "language": "python",
   "name": "python3"
  },
  "language_info": {
   "codemirror_mode": {
    "name": "ipython",
    "version": 3
   },
   "file_extension": ".py",
   "mimetype": "text/x-python",
   "name": "python",
   "nbconvert_exporter": "python",
   "pygments_lexer": "ipython3",
   "version": "3.7.3"
  }
 },
 "nbformat": 4,
 "nbformat_minor": 2
}
