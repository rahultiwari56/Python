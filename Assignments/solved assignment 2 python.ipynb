{
 "cells": [
  {
   "cell_type": "code",
   "execution_count": 1,
   "metadata": {},
   "outputs": [
    {
     "name": "stdout",
     "output_type": "stream",
     "text": [
      "d\n",
      "detneirO tcejbO si nohtyP\n",
      "Python is Object Oriente\n",
      "\n",
      "P\n",
      "on is \n"
     ]
    }
   ],
   "source": [
    "# Q1\n",
    "s='Python is Object Oriented'\n",
    "a=s[-1]\n",
    "print(a)\n",
    "b=s[::-1]\n",
    "print(b)\n",
    "c=s[:-1]\n",
    "print(c)\n",
    "d=s[1:1]\n",
    "print(d)\n",
    "e=s[0:1]\n",
    "print(e)\n",
    "f=s[4:10]\n",
    "print(f)"
   ]
  },
  {
   "cell_type": "code",
   "execution_count": 15,
   "metadata": {},
   "outputs": [
    {
     "ename": "SyntaxError",
     "evalue": "invalid syntax (<ipython-input-15-5a62e0a94f21>, line 2)",
     "output_type": "error",
     "traceback": [
      "\u001b[1;36m  File \u001b[1;32m\"<ipython-input-15-5a62e0a94f21>\"\u001b[1;36m, line \u001b[1;32m2\u001b[0m\n\u001b[1;33m    print{s[1]}\u001b[0m\n\u001b[1;37m         ^\u001b[0m\n\u001b[1;31mSyntaxError\u001b[0m\u001b[1;31m:\u001b[0m invalid syntax\n"
     ]
    }
   ],
   "source": [
    "# Q2\n",
    "s=''\n",
    "print{s[1]}"
   ]
  },
  {
   "cell_type": "code",
   "execution_count": 17,
   "metadata": {},
   "outputs": [
    {
     "ename": "SyntaxError",
     "evalue": "invalid syntax (<ipython-input-17-adfbc0715984>, line 2)",
     "output_type": "error",
     "traceback": [
      "\u001b[1;36m  File \u001b[1;32m\"<ipython-input-17-adfbc0715984>\"\u001b[1;36m, line \u001b[1;32m2\u001b[0m\n\u001b[1;33m    print{S[1]}\u001b[0m\n\u001b[1;37m         ^\u001b[0m\n\u001b[1;31mSyntaxError\u001b[0m\u001b[1;31m:\u001b[0m invalid syntax\n"
     ]
    }
   ],
   "source": [
    "# Q3\n",
    "S='Gaurav'\n",
    "print{S[1]}"
   ]
  },
  {
   "cell_type": "code",
   "execution_count": 42,
   "metadata": {},
   "outputs": [
    {
     "name": "stdout",
     "output_type": "stream",
     "text": [
      "6\n",
      "abc\n",
      "3\n"
     ]
    }
   ],
   "source": [
    "# Q4) a)\n",
    "s='a b cd'\n",
    "print(len(s))\n",
    "print(s[::2])\n",
    "print(len(s[::2]))"
   ]
  },
  {
   "cell_type": "code",
   "execution_count": 35,
   "metadata": {},
   "outputs": [
    {
     "name": "stdout",
     "output_type": "stream",
     "text": [
      "['a#b#c#d#']\n",
      "['a', 'b', 'c', 'd', '']\n",
      "a$b$c$d$\n"
     ]
    }
   ],
   "source": [
    "# Q4) b)\n",
    "s='a#b#c#d#'\n",
    "print(s.split())\n",
    "print(s.split('#'))\n",
    "l=s.split('#')\n",
    "s='$'.join(l)\n",
    "print(s)"
   ]
  },
  {
   "cell_type": "code",
   "execution_count": 43,
   "metadata": {},
   "outputs": [
    {
     "name": "stdout",
     "output_type": "stream",
     "text": [
      "av\n"
     ]
    }
   ],
   "source": [
    "# Q4) c)\n",
    "s='Gaurav'\n",
    "s=s[::-2][::-2]\n",
    "print(s)"
   ]
  },
  {
   "cell_type": "code",
   "execution_count": 9,
   "metadata": {},
   "outputs": [
    {
     "name": "stdout",
     "output_type": "stream",
     "text": [
      "False\n"
     ]
    }
   ],
   "source": [
    "# Q4) d)\n",
    "print(1>2)"
   ]
  },
  {
   "cell_type": "code",
   "execution_count": 13,
   "metadata": {},
   "outputs": [
    {
     "name": "stdout",
     "output_type": "stream",
     "text": [
      "0, 1, 2\n"
     ]
    }
   ],
   "source": [
    "# Q4) e)\n",
    "print(4%2, 5%2, 2%5, sep=', ')"
   ]
  },
  {
   "cell_type": "code",
   "execution_count": 26,
   "metadata": {},
   "outputs": [
    {
     "name": "stdout",
     "output_type": "stream",
     "text": [
      "abcba\n",
      "0,0,0,1,"
     ]
    }
   ],
   "source": [
    "# Q4) f)\n",
    "s='abcba'\n",
    "s.upper()\n",
    "print(s)\n",
    "print(s.count('A'), end=',')\n",
    "print(s.count('A',2,4), end=',')\n",
    "print(s.count('a',2,4), end=',')\n",
    "print(s.count('a',2,5), end=',')"
   ]
  },
  {
   "cell_type": "markdown",
   "metadata": {},
   "source": []
  },
  {
   "cell_type": "code",
   "execution_count": 72,
   "metadata": {},
   "outputs": [
    {
     "name": "stdout",
     "output_type": "stream",
     "text": [
      "rahul is haxora\n",
      "rahulishaxora\n"
     ]
    }
   ],
   "source": [
    "# Q5\n",
    "s=input()\n",
    "q=s.replace(' ','')\n",
    "print(q)"
   ]
  },
  {
   "cell_type": "code",
   "execution_count": 46,
   "metadata": {},
   "outputs": [],
   "source": [
    "# Q6        [] - It denotes lists"
   ]
  },
  {
   "cell_type": "code",
   "execution_count": 44,
   "metadata": {},
   "outputs": [
    {
     "data": {
      "text/plain": [
       "['__add__',\n",
       " '__class__',\n",
       " '__contains__',\n",
       " '__delattr__',\n",
       " '__dir__',\n",
       " '__doc__',\n",
       " '__eq__',\n",
       " '__format__',\n",
       " '__ge__',\n",
       " '__getattribute__',\n",
       " '__getitem__',\n",
       " '__getnewargs__',\n",
       " '__gt__',\n",
       " '__hash__',\n",
       " '__init__',\n",
       " '__init_subclass__',\n",
       " '__iter__',\n",
       " '__le__',\n",
       " '__len__',\n",
       " '__lt__',\n",
       " '__mod__',\n",
       " '__mul__',\n",
       " '__ne__',\n",
       " '__new__',\n",
       " '__reduce__',\n",
       " '__reduce_ex__',\n",
       " '__repr__',\n",
       " '__rmod__',\n",
       " '__rmul__',\n",
       " '__setattr__',\n",
       " '__sizeof__',\n",
       " '__str__',\n",
       " '__subclasshook__',\n",
       " 'capitalize',\n",
       " 'casefold',\n",
       " 'center',\n",
       " 'count',\n",
       " 'encode',\n",
       " 'endswith',\n",
       " 'expandtabs',\n",
       " 'find',\n",
       " 'format',\n",
       " 'format_map',\n",
       " 'index',\n",
       " 'isalnum',\n",
       " 'isalpha',\n",
       " 'isascii',\n",
       " 'isdecimal',\n",
       " 'isdigit',\n",
       " 'isidentifier',\n",
       " 'islower',\n",
       " 'isnumeric',\n",
       " 'isprintable',\n",
       " 'isspace',\n",
       " 'istitle',\n",
       " 'isupper',\n",
       " 'join',\n",
       " 'ljust',\n",
       " 'lower',\n",
       " 'lstrip',\n",
       " 'maketrans',\n",
       " 'partition',\n",
       " 'replace',\n",
       " 'rfind',\n",
       " 'rindex',\n",
       " 'rjust',\n",
       " 'rpartition',\n",
       " 'rsplit',\n",
       " 'rstrip',\n",
       " 'split',\n",
       " 'splitlines',\n",
       " 'startswith',\n",
       " 'strip',\n",
       " 'swapcase',\n",
       " 'title',\n",
       " 'translate',\n",
       " 'upper',\n",
       " 'zfill']"
      ]
     },
     "execution_count": 44,
     "metadata": {},
     "output_type": "execute_result"
    }
   ],
   "source": [
    "# Q7\n",
    "dir(str)"
   ]
  },
  {
   "cell_type": "code",
   "execution_count": 54,
   "metadata": {},
   "outputs": [
    {
     "name": "stdout",
     "output_type": "stream",
     "text": [
      " haxora is rahul \n",
      " haxora is rahul\n"
     ]
    }
   ],
   "source": [
    "# Q8\n",
    "s = \" haxora is rahul \"\n",
    "print(s)\n",
    "w = s.rstrip() #The rstrip() method removes any trailing characters (characters at the end a string)\n",
    "print(w)"
   ]
  },
  {
   "cell_type": "code",
   "execution_count": 66,
   "metadata": {},
   "outputs": [
    {
     "name": "stdout",
     "output_type": "stream",
     "text": [
      "\n",
      "       *****\n",
      "         *\n",
      "         *\n",
      "         *\n",
      "         *\n",
      "\n",
      "\n",
      "\n"
     ]
    }
   ],
   "source": [
    "# Q9\n",
    "a = \"\"\"\n",
    "       *****\n",
    "         *\n",
    "         *\n",
    "         *\n",
    "         *\n",
    "\n",
    "\n",
    "\"\"\"\n",
    "print(a)"
   ]
  },
  {
   "cell_type": "code",
   "execution_count": 68,
   "metadata": {},
   "outputs": [
    {
     "name": "stdout",
     "output_type": "stream",
     "text": [
      "\n",
      "       *      *\n",
      "       * *  * *\n",
      "       *  *   *\n",
      "       *      *\n",
      "\n"
     ]
    }
   ],
   "source": [
    "# Q9\n",
    "b = \"\"\"\n",
    "       *      *\n",
    "       * *  * *\n",
    "       *  *   *\n",
    "       *      *\n",
    "\"\"\"\n",
    "print(b)"
   ]
  },
  {
   "cell_type": "code",
   "execution_count": 71,
   "metadata": {},
   "outputs": [
    {
     "name": "stdout",
     "output_type": "stream",
     "text": [
      "\n",
      "       ______\n",
      "        |    |\n",
      "        o    |\n",
      "       /|\\   |\n",
      "       / \\   |\n",
      "     ________|\n",
      "\n"
     ]
    }
   ],
   "source": [
    "# Q9\n",
    "c = \"\"\"\n",
    "       ______\n",
    "        |    |\n",
    "        o    |\n",
    "       /|\\   |\n",
    "       / \\   |\n",
    "     ________|\n",
    "\"\"\"\n",
    "print(c)"
   ]
  },
  {
   "cell_type": "code",
   "execution_count": 74,
   "metadata": {},
   "outputs": [
    {
     "name": "stdout",
     "output_type": "stream",
     "text": [
      "rahul is haxora\n",
      "rahul\n",
      "is\n",
      "haxora\n"
     ]
    }
   ],
   "source": [
    "# Q10\n",
    "a = input()\n",
    "b=a.replace(' ','\\n')\n",
    "print(b)"
   ]
  },
  {
   "cell_type": "code",
   "execution_count": 86,
   "metadata": {},
   "outputs": [
    {
     "name": "stdout",
     "output_type": "stream",
     "text": [
      "Enter Full Name :\n",
      "rahul tiwari\n",
      "RAHUL 5\n",
      "TIWARI 6\n"
     ]
    }
   ],
   "source": [
    "# Q11\n",
    "print('Enter Full Name :')\n",
    "a = input()\n",
    "r,s=a.split(' ')\n",
    "p =r.upper()\n",
    "q =s.upper()\n",
    "print(p,len(p))\n",
    "print(q,len(q))"
   ]
  },
  {
   "cell_type": "code",
   "execution_count": 3,
   "metadata": {},
   "outputs": [
    {
     "name": "stdout",
     "output_type": "stream",
     "text": [
      "rahul\n",
      "5\n",
      "2\n",
      "a= ra\n",
      "b= ul\n"
     ]
    }
   ],
   "source": [
    "# Q12\n",
    "a = input()\n",
    "b=len(a)\n",
    "c=b//2\n",
    "print(b)\n",
    "print(c)\n",
    "print('a= '+a[0:c])\n",
    "z=len(a[0:c])\n",
    "if(b%2==0):\n",
    "    print('b= '+a[c:])\n",
    "else:\n",
    "    print('b= '+a[c+1:])"
   ]
  },
  {
   "cell_type": "code",
   "execution_count": null,
   "metadata": {},
   "outputs": [],
   "source": []
  }
 ],
 "metadata": {
  "kernelspec": {
   "display_name": "Python 3",
   "language": "python",
   "name": "python3"
  },
  "language_info": {
   "codemirror_mode": {
    "name": "ipython",
    "version": 3
   },
   "file_extension": ".py",
   "mimetype": "text/x-python",
   "name": "python",
   "nbconvert_exporter": "python",
   "pygments_lexer": "ipython3",
   "version": "3.7.3"
  }
 },
 "nbformat": 4,
 "nbformat_minor": 2
}
