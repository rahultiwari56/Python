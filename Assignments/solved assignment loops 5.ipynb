{
 "cells": [
  {
   "cell_type": "code",
   "execution_count": 10,
   "metadata": {},
   "outputs": [
    {
     "name": "stdout",
     "output_type": "stream",
     "text": [
      "enter n : 5\n",
      "1\n",
      "2\n",
      "3\n",
      "4\n",
      "5\n"
     ]
    }
   ],
   "source": [
    "# Q1 WAP to print first n natural numbers (input n from user)\n",
    "\n",
    "a = int(input(\"enter n : \"))\n",
    "\n",
    "for i in range(a):\n",
    "    i=1+i\n",
    "    print(i)"
   ]
  },
  {
   "cell_type": "code",
   "execution_count": 21,
   "metadata": {},
   "outputs": [
    {
     "name": "stdout",
     "output_type": "stream",
     "text": [
      "enter n : 5\n",
      "15\n"
     ]
    }
   ],
   "source": [
    "# Q2 WAP to find sum of first n natural numbers\n",
    "\n",
    "a = int(input(\"enter n : \"))\n",
    "sum=0\n",
    "for i in range(a+1):\n",
    "    sum += i\n",
    "print(sum)"
   ]
  },
  {
   "cell_type": "code",
   "execution_count": 33,
   "metadata": {},
   "outputs": [
    {
     "name": "stdout",
     "output_type": "stream",
     "text": [
      "enter n : 5\n",
      "5\n",
      "4\n",
      "3\n",
      "2\n",
      "1\n"
     ]
    }
   ],
   "source": [
    "# Q3 WAP to print first n natural numbers in reverse order\n",
    "\n",
    "a = int(input(\"enter n : \"))\n",
    "\n",
    "for i in range(a,0,-1):\n",
    "    print (i)"
   ]
  },
  {
   "cell_type": "code",
   "execution_count": 44,
   "metadata": {},
   "outputs": [
    {
     "name": "stdout",
     "output_type": "stream",
     "text": [
      "enter n : 6\n",
      "720\n"
     ]
    }
   ],
   "source": [
    "# Q4  WAP to input a number and print its factorial\n",
    "\n",
    "a = int(input(\"enter n : \"))\n",
    "\n",
    "fact=1\n",
    "\n",
    "for i in range(1,a+1):\n",
    "    fact *= i\n",
    "    \n",
    "print(fact)"
   ]
  },
  {
   "cell_type": "code",
   "execution_count": null,
   "metadata": {},
   "outputs": [],
   "source": [
    "# Q5 WAP to print Fibonacci sequence till n\n",
    "\n",
    "num = int(input(\"enter n : \"))\n",
    "a=0\n",
    "b=1\n",
    "k=0\n",
    "while a <= num:\n",
    "    print (a, end = ', ')\n",
    "    k=a+b\n",
    "    a=b\n",
    "    b=k"
   ]
  },
  {
   "cell_type": "code",
   "execution_count": null,
   "metadata": {},
   "outputs": [],
   "source": [
    "a=2\n",
    "print(a)"
   ]
  },
  {
   "cell_type": "code",
   "execution_count": null,
   "metadata": {},
   "outputs": [],
   "source": []
  }
 ],
 "metadata": {
  "kernelspec": {
   "display_name": "Python 3",
   "language": "python",
   "name": "python3"
  },
  "language_info": {
   "codemirror_mode": {
    "name": "ipython",
    "version": 3
   },
   "file_extension": ".py",
   "mimetype": "text/x-python",
   "name": "python",
   "nbconvert_exporter": "python",
   "pygments_lexer": "ipython3",
   "version": "3.7.3"
  }
 },
 "nbformat": 4,
 "nbformat_minor": 2
}
