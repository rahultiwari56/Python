{
 "cells": [
  {
   "cell_type": "markdown",
   "metadata": {},
   "source": [
    "### List\n",
    "- Sequence\n",
    "- Heterogeneous\n",
    "- Mutable"
   ]
  },
  {
   "cell_type": "code",
   "execution_count": 5,
   "metadata": {},
   "outputs": [
    {
     "name": "stdout",
     "output_type": "stream",
     "text": [
      "[] <class 'list'> 0\n"
     ]
    }
   ],
   "source": [
    "a = []\n",
    "print(a, type(a), len(a))"
   ]
  },
  {
   "cell_type": "code",
   "execution_count": 7,
   "metadata": {},
   "outputs": [
    {
     "name": "stdout",
     "output_type": "stream",
     "text": [
      "[10, 20, True, 'abcdef'] <class 'list'> 4\n"
     ]
    }
   ],
   "source": [
    "a = [10,20, True, 'abcdef']\n",
    "print(a, type(a), len(a))"
   ]
  },
  {
   "cell_type": "code",
   "execution_count": 11,
   "metadata": {},
   "outputs": [
    {
     "name": "stdout",
     "output_type": "stream",
     "text": [
      "[] 0\n",
      "[10, 20, 30, 'abc'] 4\n",
      "['a', 'b', 'c', 'd', 'e', 'f'] 6\n"
     ]
    }
   ],
   "source": [
    "a = list()\n",
    "print(a, len(a))\n",
    "a = list( [10,20,30, 'abc'] )# any kind of sequence\n",
    "print(a, len(a))\n",
    "a = list( 'abcdef' )# any kind of sequence\n",
    "print(a, len(a))"
   ]
  },
  {
   "cell_type": "code",
   "execution_count": 18,
   "metadata": {},
   "outputs": [
    {
     "name": "stdout",
     "output_type": "stream",
     "text": [
      "40\n",
      "40\n",
      "20\n",
      "10\n",
      "10\n",
      "\n",
      "'b'\n",
      "'b'\n",
      "20\n",
      "[20]\n"
     ]
    }
   ],
   "source": [
    "a = [10,20,30,40]\n",
    "print(a[3])\n",
    "print(a[-1])\n",
    "print(a[1])\n",
    "print(a[0])\n",
    "print(a[-0])\n",
    "\n",
    "print()\n",
    "print( repr('abc'[1]) )\n",
    "print(repr('abc'[1:2]) )\n",
    "print([10,20,30][1] )\n",
    "print([10,20,30][1:2] )"
   ]
  },
  {
   "cell_type": "code",
   "execution_count": 15,
   "metadata": {},
   "outputs": [
    {
     "name": "stdout",
     "output_type": "stream",
     "text": [
      "[10, 20, 2000, 40]\n"
     ]
    }
   ],
   "source": [
    "a= [10,20,30,40]\n",
    "a[2] = 2000\n",
    "print(a)"
   ]
  },
  {
   "cell_type": "code",
   "execution_count": 16,
   "metadata": {},
   "outputs": [
    {
     "ename": "TypeError",
     "evalue": "'str' object does not support item assignment",
     "output_type": "error",
     "traceback": [
      "\u001b[1;31m---------------------------------------------------------------------------\u001b[0m",
      "\u001b[1;31mTypeError\u001b[0m                                 Traceback (most recent call last)",
      "\u001b[1;32m<ipython-input-16-ff7ab11ac3e5>\u001b[0m in \u001b[0;36m<module>\u001b[1;34m\u001b[0m\n\u001b[0;32m      1\u001b[0m \u001b[0ms\u001b[0m \u001b[1;33m=\u001b[0m \u001b[1;34m'abcd'\u001b[0m\u001b[1;33m\u001b[0m\u001b[1;33m\u001b[0m\u001b[0m\n\u001b[1;32m----> 2\u001b[1;33m \u001b[0ms\u001b[0m\u001b[1;33m[\u001b[0m\u001b[1;36m1\u001b[0m\u001b[1;33m]\u001b[0m \u001b[1;33m=\u001b[0m \u001b[1;34m'a'\u001b[0m\u001b[1;33m\u001b[0m\u001b[1;33m\u001b[0m\u001b[0m\n\u001b[0m",
      "\u001b[1;31mTypeError\u001b[0m: 'str' object does not support item assignment"
     ]
    }
   ],
   "source": [
    "s = 'abcd'\n",
    "s[1] = 'a'"
   ]
  },
  {
   "cell_type": "code",
   "execution_count": 21,
   "metadata": {},
   "outputs": [
    {
     "name": "stdout",
     "output_type": "stream",
     "text": [
      "abcdef\n"
     ]
    }
   ],
   "source": [
    "k='abcdef'\n",
    "print(k[0:10])"
   ]
  },
  {
   "cell_type": "code",
   "execution_count": null,
   "metadata": {},
   "outputs": [],
   "source": [
    "a = [10,20,\"abcde\",10.9,True]\n",
    "b = list([10,20,\"abc\"])\n"
   ]
  },
  {
   "cell_type": "markdown",
   "metadata": {},
   "source": [
    "### adding data"
   ]
  },
  {
   "cell_type": "code",
   "execution_count": 27,
   "metadata": {},
   "outputs": [
    {
     "name": "stdout",
     "output_type": "stream",
     "text": [
      "[10, 20, 30]\n",
      "[10, 20, 30, 'abcd']\n",
      "[10, 20, 30, 'abcd', [100, 200]]\n",
      "d\n",
      "[10, 20, 30, 'abcd', [100, 200, 10000]]\n",
      "[<built-in function print>, <built-in function id>, Type help() for interactive help, or help(object) for help about object.]\n"
     ]
    }
   ],
   "source": [
    "a = [10,20]\n",
    "a.append(30)\n",
    "print(a)\n",
    "a.append('abcd')\n",
    "print(a)\n",
    "a.append([100,200])\n",
    "print(a)\n",
    "\n",
    "print(a[3][-1])\n",
    "a[-1].append(10000)\n",
    "print(a)\n",
    "\n",
    "print( [print, id, help ])"
   ]
  },
  {
   "cell_type": "code",
   "execution_count": 31,
   "metadata": {},
   "outputs": [
    {
     "name": "stdout",
     "output_type": "stream",
     "text": [
      "[10, 20, 100, 200] None\n",
      "[10, 20, 100, 200, 'a', 'b', 'c', 'd'] None\n"
     ]
    }
   ],
   "source": [
    "a = [10,20]\n",
    "#a.extend(10)\n",
    "r = a.extend( [100,200])\n",
    "print(a, r)\n",
    "r = a.extend('abcd')\n",
    "print(a, r)"
   ]
  },
  {
   "cell_type": "code",
   "execution_count": 34,
   "metadata": {},
   "outputs": [
    {
     "name": "stdout",
     "output_type": "stream",
     "text": [
      "['a', 'b', 'c', 'd']\n",
      "['a', 10, 'b', 'c', 'd']\n",
      "['a', 'ABC', 10, 'b', 'c', 'd']\n"
     ]
    }
   ],
   "source": [
    "a = list('abcd')\n",
    "print(a)\n",
    "a.insert(1,10)\n",
    "print(a)\n",
    "a.insert(1,'ABC')\n",
    "print(a)"
   ]
  },
  {
   "cell_type": "markdown",
   "metadata": {},
   "source": [
    "### removing data\n"
   ]
  },
  {
   "cell_type": "code",
   "execution_count": 41,
   "metadata": {},
   "outputs": [
    {
     "name": "stdout",
     "output_type": "stream",
     "text": [
      "[10, 20, 30] 40\n",
      "[10, 30] 20\n"
     ]
    },
    {
     "ename": "IndexError",
     "evalue": "pop index out of range",
     "output_type": "error",
     "traceback": [
      "\u001b[1;31m---------------------------------------------------------------------------\u001b[0m",
      "\u001b[1;31mIndexError\u001b[0m                                Traceback (most recent call last)",
      "\u001b[1;32m<ipython-input-41-ff6ba094a71a>\u001b[0m in \u001b[0;36m<module>\u001b[1;34m\u001b[0m\n\u001b[0;32m      5\u001b[0m \u001b[0mr\u001b[0m \u001b[1;33m=\u001b[0m \u001b[0ma\u001b[0m\u001b[1;33m.\u001b[0m\u001b[0mpop\u001b[0m\u001b[1;33m(\u001b[0m\u001b[1;36m1\u001b[0m\u001b[1;33m)\u001b[0m\u001b[1;33m\u001b[0m\u001b[1;33m\u001b[0m\u001b[0m\n\u001b[0;32m      6\u001b[0m \u001b[0mprint\u001b[0m\u001b[1;33m(\u001b[0m\u001b[0ma\u001b[0m\u001b[1;33m,\u001b[0m \u001b[0mr\u001b[0m\u001b[1;33m)\u001b[0m\u001b[1;33m\u001b[0m\u001b[1;33m\u001b[0m\u001b[0m\n\u001b[1;32m----> 7\u001b[1;33m \u001b[0mr\u001b[0m \u001b[1;33m=\u001b[0m \u001b[0ma\u001b[0m\u001b[1;33m.\u001b[0m\u001b[0mpop\u001b[0m\u001b[1;33m(\u001b[0m\u001b[1;36m9\u001b[0m\u001b[1;33m)\u001b[0m\u001b[1;33m\u001b[0m\u001b[1;33m\u001b[0m\u001b[0m\n\u001b[0m\u001b[0;32m      8\u001b[0m \u001b[0mprint\u001b[0m\u001b[1;33m(\u001b[0m\u001b[0ma\u001b[0m\u001b[1;33m,\u001b[0m \u001b[0mr\u001b[0m\u001b[1;33m)\u001b[0m\u001b[1;33m\u001b[0m\u001b[1;33m\u001b[0m\u001b[0m\n",
      "\u001b[1;31mIndexError\u001b[0m: pop index out of range"
     ]
    }
   ],
   "source": [
    "# remove by index or last element\n",
    "a = [10,20,30,40]\n",
    "r = a.pop()\n",
    "print(a, r)\n",
    "r = a.pop(1)\n",
    "print(a, r)\n",
    "r = a.pop(9)\n",
    "print(a, r)"
   ]
  },
  {
   "cell_type": "code",
   "execution_count": 44,
   "metadata": {},
   "outputs": [
    {
     "name": "stdout",
     "output_type": "stream",
     "text": [
      "[10, 30, 40] None\n"
     ]
    },
    {
     "ename": "ValueError",
     "evalue": "list.remove(x): x not in list",
     "output_type": "error",
     "traceback": [
      "\u001b[1;31m---------------------------------------------------------------------------\u001b[0m",
      "\u001b[1;31mValueError\u001b[0m                                Traceback (most recent call last)",
      "\u001b[1;32m<ipython-input-44-ee728ae344c5>\u001b[0m in \u001b[0;36m<module>\u001b[1;34m\u001b[0m\n\u001b[0;32m      3\u001b[0m \u001b[0mr\u001b[0m \u001b[1;33m=\u001b[0m \u001b[0ma\u001b[0m\u001b[1;33m.\u001b[0m\u001b[0mremove\u001b[0m\u001b[1;33m(\u001b[0m\u001b[1;36m20\u001b[0m\u001b[1;33m)\u001b[0m\u001b[1;33m\u001b[0m\u001b[1;33m\u001b[0m\u001b[0m\n\u001b[0;32m      4\u001b[0m \u001b[0mprint\u001b[0m\u001b[1;33m(\u001b[0m\u001b[0ma\u001b[0m\u001b[1;33m,\u001b[0m \u001b[0mr\u001b[0m\u001b[1;33m)\u001b[0m\u001b[1;33m\u001b[0m\u001b[1;33m\u001b[0m\u001b[0m\n\u001b[1;32m----> 5\u001b[1;33m \u001b[0mr\u001b[0m \u001b[1;33m=\u001b[0m \u001b[0ma\u001b[0m\u001b[1;33m.\u001b[0m\u001b[0mremove\u001b[0m\u001b[1;33m(\u001b[0m\u001b[1;36m200\u001b[0m\u001b[1;33m)\u001b[0m\u001b[1;33m\u001b[0m\u001b[1;33m\u001b[0m\u001b[0m\n\u001b[0m\u001b[0;32m      6\u001b[0m \u001b[0mprint\u001b[0m\u001b[1;33m(\u001b[0m\u001b[0ma\u001b[0m\u001b[1;33m,\u001b[0m \u001b[0mr\u001b[0m\u001b[1;33m)\u001b[0m\u001b[1;33m\u001b[0m\u001b[1;33m\u001b[0m\u001b[0m\n",
      "\u001b[1;31mValueError\u001b[0m: list.remove(x): x not in list"
     ]
    }
   ],
   "source": [
    "# remove by index or last element\n",
    "a = [10,20,30,40]\n",
    "r = a.remove(20)\n",
    "print(a, r)\n",
    "r = a.remove(200)\n",
    "print(a, r)"
   ]
  },
  {
   "cell_type": "code",
   "execution_count": 45,
   "metadata": {},
   "outputs": [
    {
     "name": "stdout",
     "output_type": "stream",
     "text": [
      "[10, 20, 30, 40] [40, 30, 20, 10]\n",
      "2402205085768 2402205280904\n"
     ]
    }
   ],
   "source": [
    "a = [10,20,30,40]\n",
    "r = a[::-1]\n",
    "print(a,r)\n",
    "print(id(a), id(r))"
   ]
  },
  {
   "cell_type": "code",
   "execution_count": 46,
   "metadata": {},
   "outputs": [
    {
     "name": "stdout",
     "output_type": "stream",
     "text": [
      "2402205068168\n",
      "[40, 30, 20, 10]\n",
      "2402205068168\n"
     ]
    }
   ],
   "source": [
    "a = [10,20,30,40]\n",
    "print(id(a))\n",
    "a.reverse()\n",
    "print(a)\n",
    "print(id(a))"
   ]
  },
  {
   "cell_type": "code",
   "execution_count": 49,
   "metadata": {},
   "outputs": [
    {
     "name": "stdout",
     "output_type": "stream",
     "text": [
      "['a', 'b', 'A', 'B', 'D', 'C']\n",
      "['A', 'B', 'C', 'D', 'a', 'b']\n",
      "['b', 'a', 'D', 'C', 'B', 'A']\n"
     ]
    }
   ],
   "source": [
    "a = list('abABDC')\n",
    "print(a)\n",
    "a.sort()\n",
    "print(a)\n",
    "a.sort(reverse = True)\n",
    "print(a)"
   ]
  },
  {
   "cell_type": "code",
   "execution_count": 51,
   "metadata": {},
   "outputs": [
    {
     "name": "stdout",
     "output_type": "stream",
     "text": [
      "[-10, 8, 9, 9.5, 10, 20]\n"
     ]
    }
   ],
   "source": [
    "a = [10,20,-10,9,8, 9.5]\n",
    "a.sort()\n",
    "print(a)"
   ]
  },
  {
   "cell_type": "code",
   "execution_count": 52,
   "metadata": {},
   "outputs": [
    {
     "ename": "TypeError",
     "evalue": "'<' not supported between instances of 'str' and 'float'",
     "output_type": "error",
     "traceback": [
      "\u001b[1;31m---------------------------------------------------------------------------\u001b[0m",
      "\u001b[1;31mTypeError\u001b[0m                                 Traceback (most recent call last)",
      "\u001b[1;32m<ipython-input-52-50efcb0de15c>\u001b[0m in \u001b[0;36m<module>\u001b[1;34m\u001b[0m\n\u001b[0;32m      1\u001b[0m \u001b[0ma\u001b[0m \u001b[1;33m=\u001b[0m \u001b[1;33m[\u001b[0m\u001b[1;36m10\u001b[0m\u001b[1;33m,\u001b[0m\u001b[1;36m20\u001b[0m\u001b[1;33m,\u001b[0m\u001b[1;33m-\u001b[0m\u001b[1;36m10\u001b[0m\u001b[1;33m,\u001b[0m\u001b[1;36m9\u001b[0m\u001b[1;33m,\u001b[0m\u001b[1;36m8\u001b[0m\u001b[1;33m,\u001b[0m \u001b[1;36m9.5\u001b[0m\u001b[1;33m,\u001b[0m \u001b[1;34m'0'\u001b[0m\u001b[1;33m]\u001b[0m\u001b[1;33m\u001b[0m\u001b[1;33m\u001b[0m\u001b[0m\n\u001b[1;32m----> 2\u001b[1;33m \u001b[0ma\u001b[0m\u001b[1;33m.\u001b[0m\u001b[0msort\u001b[0m\u001b[1;33m(\u001b[0m\u001b[1;33m)\u001b[0m\u001b[1;33m\u001b[0m\u001b[1;33m\u001b[0m\u001b[0m\n\u001b[0m\u001b[0;32m      3\u001b[0m \u001b[0mprint\u001b[0m\u001b[1;33m(\u001b[0m\u001b[0ma\u001b[0m\u001b[1;33m)\u001b[0m\u001b[1;33m\u001b[0m\u001b[1;33m\u001b[0m\u001b[0m\n",
      "\u001b[1;31mTypeError\u001b[0m: '<' not supported between instances of 'str' and 'float'"
     ]
    }
   ],
   "source": [
    "a = [10,20,-10,9,8, 9.5, '0']\n",
    "a.sort()\n",
    "print(a)"
   ]
  },
  {
   "cell_type": "code",
   "execution_count": 68,
   "metadata": {},
   "outputs": [
    {
     "name": "stdout",
     "output_type": "stream",
     "text": [
      "[17, 12, 20, 18]\n",
      "False\n",
      "12 20\n",
      "A b\n"
     ]
    }
   ],
   "source": [
    "# WAF that create and returns a list of 4 random numbers 10-20\n",
    "from random import randint\n",
    "def get_rand_list():\n",
    "    a = []\n",
    "    a.append(randint(10,20))\n",
    "    a.append(randint(10,20))\n",
    "    a.append(randint(10,20))\n",
    "    a.append(randint(10,20))\n",
    "    return a\n",
    "\n",
    "res = get_rand_list()\n",
    "print(res)\n",
    "print(10 in res)\n",
    "print(min(res), max(res))\n",
    "print(min('abAB'), max('abAB'))"
   ]
  },
  {
   "cell_type": "code",
   "execution_count": 70,
   "metadata": {},
   "outputs": [
    {
     "name": "stdout",
     "output_type": "stream",
     "text": [
      "[10, 20] [True, 'abcd'] [10, 20, True, 'abcd']\n",
      "[10, 20, 10, 20, 10, 20, 10, 20]\n"
     ]
    }
   ],
   "source": [
    "a1 = [10,20]\n",
    "a2 = [True, 'abcd']\n",
    "a3 = a1 + a2\n",
    "print(a1,a2,a3)\n",
    "print( a1 * 4)"
   ]
  },
  {
   "cell_type": "code",
   "execution_count": 71,
   "metadata": {},
   "outputs": [
    {
     "name": "stdout",
     "output_type": "stream",
     "text": [
      "abcd ABCD123 abcdABCD123\n",
      "abcdabcdabcdabcd\n"
     ]
    }
   ],
   "source": [
    "a1 = 'abcd'\n",
    "a2 = 'ABCD123'\n",
    "a3 = a1 + a2\n",
    "print(a1,a2,a3)\n",
    "print( a1 * 4)"
   ]
  },
  {
   "cell_type": "code",
   "execution_count": 73,
   "metadata": {},
   "outputs": [
    {
     "name": "stdout",
     "output_type": "stream",
     "text": [
      "manikanta kantakanta\n"
     ]
    }
   ],
   "source": [
    "x = \"manikanta\"\n",
    "y = x.replace(\"mani\",\"kanta\")\n",
    "print(x, y)"
   ]
  },
  {
   "cell_type": "code",
   "execution_count": 75,
   "metadata": {},
   "outputs": [
    {
     "name": "stdout",
     "output_type": "stream",
     "text": [
      "abABabAbcdab #AB#Abcd#\n",
      "abABabAbcdab #AB#Abcdab\n"
     ]
    }
   ],
   "source": [
    "x = \"abABabAbcdab\"\n",
    "y = x.replace(\"ab\",\"#\")\n",
    "print(x, y)\n",
    "\n",
    "x = \"abABabAbcdab\"\n",
    "y = x.replace(\"ab\",\"#\", 2)\n",
    "print(x, y)"
   ]
  },
  {
   "cell_type": "code",
   "execution_count": 80,
   "metadata": {},
   "outputs": [
    {
     "name": "stdout",
     "output_type": "stream",
     "text": [
      "['ab', 'cd', 'pqrs', '123']\n",
      "['ab ', 'd pqrs 123']\n",
      "['ab cd pqrs 123']\n",
      "['ab cd pqrs 12', '']\n"
     ]
    }
   ],
   "source": [
    "s = 'ab cd pqrs 123'\n",
    "print(s.split())\n",
    "print(s.split('c'))\n",
    "print(s.split('C'))\n",
    "print(s.split('3'))"
   ]
  },
  {
   "cell_type": "code",
   "execution_count": 84,
   "metadata": {},
   "outputs": [
    {
     "name": "stdout",
     "output_type": "stream",
     "text": [
      "ab#cd#pqrs#123\n"
     ]
    }
   ],
   "source": [
    "a = ['ab', 'cd', 'pqrs', '123']\n",
    "r = '#'.join(a)\n",
    "print(r)\n"
   ]
  },
  {
   "cell_type": "code",
   "execution_count": 88,
   "metadata": {},
   "outputs": [
    {
     "name": "stdout",
     "output_type": "stream",
     "text": [
      "abc\n",
      "['abc']\n",
      "abc\n"
     ]
    }
   ],
   "source": [
    "# WAP to input a string and print the last word\n",
    "# assume words are separated by spaces\n",
    "# Ex: if input is  \"Today is tuesday\"\n",
    "# Output should be tuesday\n",
    "\n",
    "a=input().split()\n",
    "print(a)\n",
    "print(a[-1])\n"
   ]
  },
  {
   "cell_type": "markdown",
   "metadata": {},
   "source": [
    "### Tuple"
   ]
  },
  {
   "cell_type": "code",
   "execution_count": 89,
   "metadata": {},
   "outputs": [
    {
     "name": "stdout",
     "output_type": "stream",
     "text": [
      "() 0 <class 'tuple'>\n"
     ]
    }
   ],
   "source": [
    "t = ()\n",
    "print(t, len(t),type(t))"
   ]
  },
  {
   "cell_type": "code",
   "execution_count": 91,
   "metadata": {},
   "outputs": [
    {
     "name": "stdout",
     "output_type": "stream",
     "text": [
      "(1, 2, 3, 'abcd', [10, 20], (1, 2)) 6 <class 'tuple'>\n"
     ]
    }
   ],
   "source": [
    "t = (1,2,3, 'abcd', [10,20], (1,2))\n",
    "print(t, len(t),type(t))"
   ]
  },
  {
   "cell_type": "code",
   "execution_count": 93,
   "metadata": {},
   "outputs": [
    {
     "name": "stdout",
     "output_type": "stream",
     "text": [
      "1 <class 'int'>\n",
      "2 <class 'int'>\n"
     ]
    }
   ],
   "source": [
    "t = (2-1)\n",
    "print(t,type(t))\n",
    "\n",
    "t = (2)\n",
    "print(t,type(t))"
   ]
  },
  {
   "cell_type": "code",
   "execution_count": 94,
   "metadata": {},
   "outputs": [
    {
     "name": "stdout",
     "output_type": "stream",
     "text": [
      "(2,) <class 'tuple'>\n"
     ]
    }
   ],
   "source": [
    "t = (2,)\n",
    "print(t,type(t))"
   ]
  },
  {
   "cell_type": "code",
   "execution_count": 95,
   "metadata": {},
   "outputs": [
    {
     "name": "stdout",
     "output_type": "stream",
     "text": [
      "(2, 3, 4) <class 'tuple'>\n"
     ]
    }
   ],
   "source": [
    "t = 2,3,4\n",
    "print(t,type(t))"
   ]
  },
  {
   "cell_type": "code",
   "execution_count": 99,
   "metadata": {},
   "outputs": [
    {
     "name": "stdout",
     "output_type": "stream",
     "text": [
      "('a', 'b', 'c', 'd')\n",
      "['a', 'b', 'c', 'd']\n",
      "('a', 'b', 'c')\n",
      "a#b#c#d\n"
     ]
    }
   ],
   "source": [
    "t = tuple('abcd')\n",
    "print(t)\n",
    "a = list(t)\n",
    "print(a)\n",
    "a.pop()\n",
    "print(tuple(a))\n",
    "\n",
    "print('#'.join(t))"
   ]
  },
  {
   "cell_type": "code",
   "execution_count": 102,
   "metadata": {},
   "outputs": [
    {
     "name": "stdout",
     "output_type": "stream",
     "text": [
      "[]\n",
      "([100], 10, 20)\n"
     ]
    }
   ],
   "source": [
    "t =([], 10,20)\n",
    "print(t[0])\n",
    "#t[0] = 2000 # immutable\n",
    "t[0].append(100)\n",
    "print(t)\n",
    "#t[1] = 90"
   ]
  },
  {
   "cell_type": "code",
   "execution_count": 106,
   "metadata": {},
   "outputs": [
    {
     "name": "stdout",
     "output_type": "stream",
     "text": [
      "(10, (1, []), 20)\n",
      "[]\n",
      "(10, (1, ['abcd']), 20)\n"
     ]
    }
   ],
   "source": [
    "t =(10,( 1, [] ),20)\n",
    "print(t)\n",
    "print(t[1][1])\n",
    "t[1][1].append('abcd')\n",
    "print(t)"
   ]
  },
  {
   "cell_type": "code",
   "execution_count": null,
   "metadata": {},
   "outputs": [],
   "source": []
  }
 ],
 "metadata": {
  "kernelspec": {
   "display_name": "Python 3",
   "language": "python",
   "name": "python3"
  },
  "language_info": {
   "codemirror_mode": {
    "name": "ipython",
    "version": 3
   },
   "file_extension": ".py",
   "mimetype": "text/x-python",
   "name": "python",
   "nbconvert_exporter": "python",
   "pygments_lexer": "ipython3",
   "version": "3.7.3"
  }
 },
 "nbformat": 4,
 "nbformat_minor": 2
}
