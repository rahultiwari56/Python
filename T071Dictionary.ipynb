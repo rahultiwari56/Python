{
 "cells": [
  {
   "cell_type": "markdown",
   "metadata": {},
   "source": [
    "### dict\n",
    "- mapping type\n",
    "- key : value\n",
    "- mutable\n",
    "- all keys are unique\n",
    "- key should be some immutable type\n",
    "- value can be anything"
   ]
  },
  {
   "cell_type": "code",
   "execution_count": 1,
   "metadata": {},
   "outputs": [
    {
     "name": "stdout",
     "output_type": "stream",
     "text": [
      "{} 0 <class 'dict'>\n",
      "{} <class 'dict'>\n"
     ]
    }
   ],
   "source": [
    "d = {}\n",
    "print(d, len(d), type(d))\n",
    "loc = dict() # empty dictionary\n",
    "print(loc, type(loc))"
   ]
  },
  {
   "cell_type": "code",
   "execution_count": 2,
   "metadata": {},
   "outputs": [
    {
     "name": "stdout",
     "output_type": "stream",
     "text": [
      "{1: 2, 'abcd': 8888.99, (1, 2): ['hello', 'world']} 3\n",
      "2 ['hello', 'world']\n",
      "\n",
      "{1: 200, 2: 200} True False\n"
     ]
    }
   ],
   "source": [
    "d = {1:2, 'abcd':8888.99, (1,2): ['hello', 'world']} # key:value\n",
    "print(d, len(d))\n",
    "\n",
    "\n",
    "print(d[1], d[(1,2)])\n",
    "print()\n",
    "d = {1:2, 1:200,2:200} # hash map\n",
    "print(d , 1 in d, 200 in d) # membership check"
   ]
  },
  {
   "cell_type": "code",
   "execution_count": 17,
   "metadata": {},
   "outputs": [
    {
     "name": "stdout",
     "output_type": "stream",
     "text": [
      "{'x': 10, 'abc': 'string'}\n",
      "{'string': 'string'}\n"
     ]
    }
   ],
   "source": [
    "p = 'string'\n",
    "d = dict(x = 10,abc = p)\n",
    "print(d)\n",
    "\n",
    "print( {p :p } )"
   ]
  },
  {
   "cell_type": "code",
   "execution_count": 24,
   "metadata": {},
   "outputs": [
    {
     "name": "stdout",
     "output_type": "stream",
     "text": [
      "{10: 33333, 'abcd': 9999, 1: 'abcd'}\n",
      "{1: 'abcd'}\n"
     ]
    }
   ],
   "source": [
    "d = dict( [ (10,33333), ('abcd', 9999), (1, 'abcd') ] )\n",
    "print(d)\n",
    "d = dict( [ [1, 'abcd'] ] )\n",
    "print(d)"
   ]
  },
  {
   "cell_type": "markdown",
   "metadata": {},
   "source": [
    "#### Adding Data"
   ]
  },
  {
   "cell_type": "code",
   "execution_count": 28,
   "metadata": {},
   "outputs": [
    {
     "name": "stdout",
     "output_type": "stream",
     "text": [
      "{1: 10, 2: 20}\n",
      "{1: 10000, 2: 20}\n",
      "10000\n"
     ]
    },
    {
     "ename": "KeyError",
     "evalue": "3",
     "output_type": "error",
     "traceback": [
      "\u001b[1;31m---------------------------------------------------------------------------\u001b[0m",
      "\u001b[1;31mKeyError\u001b[0m                                  Traceback (most recent call last)",
      "\u001b[1;32m<ipython-input-28-17c55d6f7746>\u001b[0m in \u001b[0;36m<module>\u001b[1;34m\u001b[0m\n\u001b[0;32m      5\u001b[0m \u001b[0mprint\u001b[0m\u001b[1;33m(\u001b[0m\u001b[0md\u001b[0m\u001b[1;33m)\u001b[0m\u001b[1;33m\u001b[0m\u001b[1;33m\u001b[0m\u001b[0m\n\u001b[0;32m      6\u001b[0m \u001b[0mprint\u001b[0m\u001b[1;33m(\u001b[0m\u001b[0md\u001b[0m\u001b[1;33m[\u001b[0m\u001b[1;36m1\u001b[0m\u001b[1;33m]\u001b[0m\u001b[1;33m)\u001b[0m\u001b[1;33m\u001b[0m\u001b[1;33m\u001b[0m\u001b[0m\n\u001b[1;32m----> 7\u001b[1;33m \u001b[0mprint\u001b[0m\u001b[1;33m(\u001b[0m\u001b[0md\u001b[0m\u001b[1;33m[\u001b[0m\u001b[1;36m3\u001b[0m\u001b[1;33m]\u001b[0m\u001b[1;33m)\u001b[0m\u001b[1;33m\u001b[0m\u001b[1;33m\u001b[0m\u001b[0m\n\u001b[0m",
      "\u001b[1;31mKeyError\u001b[0m: 3"
     ]
    }
   ],
   "source": [
    "d = {1:10}\n",
    "d[2] = 20 # writing\n",
    "print(d)\n",
    "d[1] = 10000\n",
    "print(d)\n",
    "print(d[1])\n",
    "print(d[3])"
   ]
  },
  {
   "cell_type": "code",
   "execution_count": 29,
   "metadata": {},
   "outputs": [
    {
     "name": "stdout",
     "output_type": "stream",
     "text": [
      "enter a string: abcABab\n",
      "{'a': 1, 'b': 1, 'c': 1, 'A': 1, 'B': 1}\n"
     ]
    }
   ],
   "source": [
    "s = input('enter a string: ')\n",
    "\n",
    "d = {}\n",
    "for c in s:\n",
    "    d[c] = 1\n",
    "    \n",
    "print(d)\n"
   ]
  },
  {
   "cell_type": "code",
   "execution_count": 33,
   "metadata": {},
   "outputs": [
    {
     "name": "stdout",
     "output_type": "stream",
     "text": [
      "enter a string: this is a string\n",
      "{'t': 2, 'h': 1, 'i': 3, 's': 3, ' ': 3, 'a': 1, 'r': 1, 'n': 1, 'g': 1}\n",
      "t\n",
      "h\n",
      "i\n",
      "s\n",
      " \n",
      "a\n",
      "r\n",
      "n\n",
      "g\n"
     ]
    }
   ],
   "source": [
    "s = input('enter a string: ')\n",
    "\n",
    "d = {}\n",
    "for c in s:\n",
    "    if c in d:\n",
    "        d[c] += 1\n",
    "    else:\n",
    "        d[c] = 1\n",
    "    \n",
    "print(d)\n",
    "for k in d:\n",
    "    print(k)\n",
    "# d {} {'a':1} {a:1,b:1} {a:1,b:1,c:1}{a:1,b:1,c:1,A:1}{a:1,b:1,c:1,A:1,B:1}\n",
    "# c    a       b             c         A                 B\n",
    "\n",
    "# d  {a:2,b:1,c:1,A:1,B:1}{a:2,b:2,c:1,A:1,B:1}{a:3,b:2,c:1,A:1,B:1}\n",
    "# c    a                   b                   a"
   ]
  },
  {
   "cell_type": "code",
   "execution_count": 36,
   "metadata": {},
   "outputs": [
    {
     "name": "stdout",
     "output_type": "stream",
     "text": [
      "2\n",
      "None\n",
      "-1\n"
     ]
    }
   ],
   "source": [
    "d = {1:2}\n",
    "print(d.get(1))\n",
    "print(d.get(100))\n",
    "print(d.get(100, -1))"
   ]
  },
  {
   "cell_type": "code",
   "execution_count": 46,
   "metadata": {},
   "outputs": [
    {
     "name": "stdout",
     "output_type": "stream",
     "text": [
      "enter a string: abcabcddd\n",
      "a : 2\n",
      "b : 2\n",
      "c : 2\n",
      "d : 3\n",
      "\n",
      "a : 2\n",
      "b : 2\n",
      "c : 2\n",
      "d : 3\n"
     ]
    }
   ],
   "source": [
    "s = input('enter a string: ')\n",
    "\n",
    "d = {}\n",
    "for c in s:\n",
    "    d[c] = d.get(c, 0) + 1\n",
    "\n",
    "for k,v in d.items():\n",
    "    print(k, ':', v)\n",
    "\n",
    "print()\n",
    "for data in d.items():\n",
    "    print(data[0], ':', data[1])"
   ]
  },
  {
   "cell_type": "code",
   "execution_count": 43,
   "metadata": {},
   "outputs": [
    {
     "name": "stdout",
     "output_type": "stream",
     "text": [
      "dict_keys([1, 2])\n",
      "1\n",
      "2\n",
      "dict_values([2, 3])\n",
      "dict_items([(1, 2), (2, 3)])\n"
     ]
    }
   ],
   "source": [
    "d = {1:2,2:3}\n",
    "\n",
    "print(d.keys())\n",
    "for k in d.keys():\n",
    "    print(k)\n",
    "    \n",
    "print(d.values())\n",
    "print(d.items())"
   ]
  },
  {
   "cell_type": "code",
   "execution_count": 51,
   "metadata": {},
   "outputs": [
    {
     "name": "stdout",
     "output_type": "stream",
     "text": [
      "1\n",
      "{20: 2, 30: 3}\n",
      "{30: 3}\n",
      "-111\n",
      "3\n"
     ]
    }
   ],
   "source": [
    "d = {10:1,20:2,30:3}\n",
    "print(d.pop(10))\n",
    "print(d)\n",
    "del d[20]\n",
    "print(d)\n",
    "\n",
    "#d.pop(10) # key error\n",
    "print(d.pop(10,-111))\n",
    "print(d.pop(30,-111))"
   ]
  },
  {
   "cell_type": "code",
   "execution_count": 55,
   "metadata": {},
   "outputs": [
    {
     "name": "stdout",
     "output_type": "stream",
     "text": [
      "True\n",
      "False\n",
      "True\n"
     ]
    }
   ],
   "source": [
    "d = {10:1,20:2}\n",
    "\n",
    "print(10 in d) # O(1)\n",
    "print(1 in d) # O(1)\n",
    "\n",
    "print(1 in d.values()) # not good   : O(n)"
   ]
  },
  {
   "cell_type": "code",
   "execution_count": null,
   "metadata": {},
   "outputs": [],
   "source": []
  }
 ],
 "metadata": {
  "kernelspec": {
   "display_name": "Python 3",
   "language": "python",
   "name": "python3"
  },
  "language_info": {
   "codemirror_mode": {
    "name": "ipython",
    "version": 3
   },
   "file_extension": ".py",
   "mimetype": "text/x-python",
   "name": "python",
   "nbconvert_exporter": "python",
   "pygments_lexer": "ipython3",
   "version": "3.7.3"
  }
 },
 "nbformat": 4,
 "nbformat_minor": 2
}
