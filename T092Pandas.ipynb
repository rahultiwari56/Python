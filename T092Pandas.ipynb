{
 "cells": [
  {
   "cell_type": "code",
   "execution_count": 2,
   "metadata": {},
   "outputs": [],
   "source": [
    "import pandas as pd # Panel Data\n",
    "import numpy as np"
   ]
  },
  {
   "cell_type": "code",
   "execution_count": 3,
   "metadata": {},
   "outputs": [
    {
     "name": "stdout",
     "output_type": "stream",
     "text": [
      "['Categorical', 'CategoricalDtype', 'CategoricalIndex', 'DataFrame', 'DateOffset', 'DatetimeIndex', 'DatetimeTZDtype', 'ExcelFile', 'ExcelWriter', 'Float64Index', 'Grouper', 'HDFStore', 'Index', 'IndexSlice', 'Int16Dtype', 'Int32Dtype', 'Int64Dtype', 'Int64Index', 'Int8Dtype', 'Interval', 'IntervalDtype', 'IntervalIndex', 'MultiIndex', 'NaT', 'Panel', 'Period', 'PeriodDtype', 'PeriodIndex', 'RangeIndex', 'Series', 'SparseArray', 'SparseDataFrame', 'SparseDtype', 'SparseSeries', 'TimeGrouper', 'Timedelta', 'TimedeltaIndex', 'Timestamp', 'UInt16Dtype', 'UInt32Dtype', 'UInt64Dtype', 'UInt64Index', 'UInt8Dtype', '__builtins__', '__cached__', '__doc__', '__docformat__', '__file__', '__git_version__', '__loader__', '__name__', '__package__', '__path__', '__spec__', '__version__', '_hashtable', '_lib', '_libs', '_np_version_under1p13', '_np_version_under1p14', '_np_version_under1p15', '_np_version_under1p16', '_np_version_under1p17', '_tslib', '_version', 'api', 'array', 'arrays', 'bdate_range', 'compat', 'concat', 'core', 'crosstab', 'cut', 'date_range', 'datetime', 'describe_option', 'errors', 'eval', 'factorize', 'get_dummies', 'get_option', 'infer_freq', 'interval_range', 'io', 'isna', 'isnull', 'lreshape', 'melt', 'merge', 'merge_asof', 'merge_ordered', 'notna', 'notnull', 'np', 'offsets', 'option_context', 'options', 'pandas', 'period_range', 'pivot', 'pivot_table', 'plotting', 'qcut', 'read_clipboard', 'read_csv', 'read_excel', 'read_feather', 'read_fwf', 'read_gbq', 'read_hdf', 'read_html', 'read_json', 'read_msgpack', 'read_parquet', 'read_pickle', 'read_sas', 'read_sql', 'read_sql_query', 'read_sql_table', 'read_stata', 'read_table', 'reset_option', 'set_eng_float_format', 'set_option', 'show_versions', 'test', 'testing', 'timedelta_range', 'to_datetime', 'to_msgpack', 'to_numeric', 'to_pickle', 'to_timedelta', 'tseries', 'unique', 'util', 'value_counts', 'wide_to_long']\n"
     ]
    }
   ],
   "source": [
    "print(dir(pd))"
   ]
  },
  {
   "cell_type": "code",
   "execution_count": 19,
   "metadata": {},
   "outputs": [
    {
     "name": "stdout",
     "output_type": "stream",
     "text": [
      "Series([], dtype: int8)\n",
      "\n",
      "0    10\n",
      "1    20\n",
      "2    30\n",
      "3    40\n",
      "dtype: int64\n",
      "0    10\n",
      "1    20\n",
      "2    30\n",
      "3    40\n",
      "dtype: int32\n",
      "RangeIndex(start=0, stop=4, step=1)\n",
      "[10 20 30 40]\n"
     ]
    }
   ],
   "source": [
    "s = pd.Series(dtype = 'int8')\n",
    "print(s)\n",
    "print()\n",
    "s = pd.Series([10,20,30,40])\n",
    "print(s)\n",
    "\n",
    "s = pd.Series(np.arange(10,50,10))\n",
    "print(s)\n",
    "print(s.index)\n",
    "print(s.values)"
   ]
  },
  {
   "cell_type": "code",
   "execution_count": 9,
   "metadata": {},
   "outputs": [
    {
     "name": "stdout",
     "output_type": "stream",
     "text": [
      "['T', '_AXIS_ALIASES', '_AXIS_IALIASES', '_AXIS_LEN', '_AXIS_NAMES', '_AXIS_NUMBERS', '_AXIS_ORDERS', '_AXIS_REVERSED', '_AXIS_SLICEMAP', '__abs__', '__add__', '__and__', '__array__', '__array_prepare__', '__array_priority__', '__array_wrap__', '__bool__', '__bytes__', '__class__', '__contains__', '__copy__', '__deepcopy__', '__delattr__', '__delitem__', '__dict__', '__dir__', '__div__', '__divmod__', '__doc__', '__eq__', '__finalize__', '__float__', '__floordiv__', '__format__', '__ge__', '__getattr__', '__getattribute__', '__getitem__', '__getstate__', '__gt__', '__hash__', '__iadd__', '__iand__', '__ifloordiv__', '__imod__', '__imul__', '__init__', '__init_subclass__', '__int__', '__invert__', '__ior__', '__ipow__', '__isub__', '__iter__', '__itruediv__', '__ixor__', '__le__', '__len__', '__long__', '__lt__', '__matmul__', '__mod__', '__module__', '__mul__', '__ne__', '__neg__', '__new__', '__nonzero__', '__or__', '__pos__', '__pow__', '__radd__', '__rand__', '__rdiv__', '__rdivmod__', '__reduce__', '__reduce_ex__', '__repr__', '__rfloordiv__', '__rmatmul__', '__rmod__', '__rmul__', '__ror__', '__round__', '__rpow__', '__rsub__', '__rtruediv__', '__rxor__', '__setattr__', '__setitem__', '__setstate__', '__sizeof__', '__str__', '__sub__', '__subclasshook__', '__truediv__', '__unicode__', '__weakref__', '__xor__', '_accessors', '_add_numeric_operations', '_add_series_only_operations', '_add_series_or_dataframe_operations', '_agg_by_level', '_agg_examples_doc', '_agg_see_also_doc', '_aggregate', '_aggregate_multiple_funcs', '_align_frame', '_align_series', '_binop', '_box_item_values', '_builtin_table', '_can_hold_na', '_check_inplace_setting', '_check_is_chained_assignment_possible', '_check_label_or_level_ambiguity', '_check_percentile', '_check_setitem_copy', '_clear_item_cache', '_clip_with_one_bound', '_clip_with_scalar', '_consolidate', '_consolidate_inplace', '_construct_axes_dict', '_construct_axes_dict_for_slice', '_construct_axes_dict_from', '_construct_axes_from_arguments', '_constructor', '_constructor_expanddim', '_constructor_sliced', '_convert', '_create_indexer', '_cython_table', '_deprecations', '_dir_additions', '_dir_deletions', '_drop_axis', '_drop_labels_or_levels', '_expand_axes', '_find_valid_index', '_formatting_values', '_from_axes', '_get_axis', '_get_axis_name', '_get_axis_number', '_get_axis_resolvers', '_get_block_manager_axis', '_get_bool_data', '_get_cacher', '_get_index_resolvers', '_get_item_cache', '_get_label_or_level_values', '_get_numeric_data', '_get_value', '_get_values', '_get_values_tuple', '_get_with', '_gotitem', '_iget_item_cache', '_index', '_indexed_same', '_info_axis', '_info_axis_name', '_info_axis_number', '_init_dict', '_init_mgr', '_internal_names', '_internal_names_set', '_is_builtin_func', '_is_cached', '_is_copy', '_is_cython_func', '_is_datelike_mixed_type', '_is_homogeneous_type', '_is_label_or_level_reference', '_is_label_reference', '_is_level_reference', '_is_mixed_type', '_is_numeric_mixed_type', '_is_view', '_ix', '_ixs', '_map_values', '_maybe_cache_changed', '_maybe_update_cacher', '_metadata', '_ndarray_values', '_needs_reindex_multi', '_obj_with_exclusions', '_protect_consolidate', '_reduce', '_reindex_axes', '_reindex_indexer', '_reindex_multi', '_reindex_with_indexers', '_repr_data_resource_', '_repr_latex_', '_reset_cache', '_reset_cacher', '_selected_obj', '_selection', '_selection_list', '_selection_name', '_set_as_cached', '_set_axis', '_set_axis_name', '_set_is_copy', '_set_item', '_set_labels', '_set_name', '_set_subtyp', '_set_value', '_set_values', '_set_with', '_set_with_engine', '_setup_axes', '_shallow_copy', '_slice', '_stat_axis', '_stat_axis_name', '_stat_axis_number', '_take', '_to_dict_of_blocks', '_try_aggregate_string_function', '_typ', '_unpickle_series_compat', '_update_inplace', '_validate_dtype', '_values', '_where', '_xs', 'abs', 'add', 'add_prefix', 'add_suffix', 'agg', 'aggregate', 'align', 'all', 'any', 'append', 'apply', 'argmax', 'argmin', 'argsort', 'array', 'as_matrix', 'asfreq', 'asof', 'astype', 'at', 'at_time', 'autocorr', 'axes', 'base', 'between', 'between_time', 'bfill', 'bool', 'clip', 'clip_lower', 'clip_upper', 'combine', 'combine_first', 'compound', 'compress', 'copy', 'corr', 'count', 'cov', 'cummax', 'cummin', 'cumprod', 'cumsum', 'data', 'describe', 'diff', 'div', 'divide', 'divmod', 'dot', 'drop', 'drop_duplicates', 'droplevel', 'dropna', 'dtype', 'dtypes', 'duplicated', 'empty', 'eq', 'equals', 'ewm', 'expanding', 'factorize', 'ffill', 'fillna', 'filter', 'first', 'first_valid_index', 'flags', 'floordiv', 'from_array', 'ftype', 'ftypes', 'ge', 'get', 'get_dtype_counts', 'get_ftype_counts', 'get_values', 'groupby', 'gt', 'hasnans', 'head', 'hist', 'iat', 'idxmax', 'idxmin', 'iloc', 'imag', 'index', 'infer_objects', 'interpolate', 'is_monotonic', 'is_monotonic_decreasing', 'is_monotonic_increasing', 'is_unique', 'isin', 'isna', 'isnull', 'item', 'items', 'itemsize', 'iteritems', 'ix', 'keys', 'kurt', 'kurtosis', 'last', 'last_valid_index', 'le', 'loc', 'lt', 'mad', 'map', 'mask', 'max', 'mean', 'median', 'memory_usage', 'min', 'mod', 'mode', 'mul', 'multiply', 'name', 'nbytes', 'ndim', 'ne', 'nlargest', 'nonzero', 'notna', 'notnull', 'nsmallest', 'nunique', 'pct_change', 'pipe', 'plot', 'pop', 'pow', 'prod', 'product', 'ptp', 'put', 'quantile', 'radd', 'rank', 'ravel', 'rdiv', 'rdivmod', 'real', 'reindex', 'reindex_axis', 'reindex_like', 'rename', 'rename_axis', 'reorder_levels', 'repeat', 'replace', 'resample', 'reset_index', 'rfloordiv', 'rmod', 'rmul', 'rolling', 'round', 'rpow', 'rsub', 'rtruediv', 'sample', 'searchsorted', 'select', 'sem', 'set_axis', 'shape', 'shift', 'size', 'skew', 'slice_shift', 'sort_index', 'sort_values', 'squeeze', 'std', 'strides', 'sub', 'subtract', 'sum', 'swapaxes', 'swaplevel', 'tail', 'take', 'timetuple', 'to_clipboard', 'to_csv', 'to_dense', 'to_dict', 'to_excel', 'to_frame', 'to_hdf', 'to_json', 'to_latex', 'to_list', 'to_msgpack', 'to_numpy', 'to_period', 'to_pickle', 'to_sparse', 'to_sql', 'to_string', 'to_timestamp', 'to_xarray', 'transform', 'transpose', 'truediv', 'truncate', 'tshift', 'tz_convert', 'tz_localize', 'unique', 'unstack', 'update', 'value_counts', 'values', 'var', 'view', 'where', 'xs']\n"
     ]
    }
   ],
   "source": [
    "s = pd.Series()\n",
    "print(dir(s))"
   ]
  },
  {
   "cell_type": "code",
   "execution_count": 12,
   "metadata": {},
   "outputs": [
    {
     "name": "stdout",
     "output_type": "stream",
     "text": [
      "[[ 2 40 36 38]\n",
      " [ 9  1 23  7]\n",
      " [25 23  1 39]\n",
      " [36 37  3  7]\n",
      " [41  5 43 49]\n",
      " [ 3 11 23 25]\n",
      " [33  4 43  4]\n",
      " [48 23 25  7]\n",
      " [ 5 24  3 42]\n",
      " [ 9 44 41 17]]\n"
     ]
    }
   ],
   "source": [
    "ar = np.random.randint(1,50,40).reshape(10,4)\n",
    "print(ar)"
   ]
  },
  {
   "cell_type": "code",
   "execution_count": 23,
   "metadata": {},
   "outputs": [
    {
     "name": "stdout",
     "output_type": "stream",
     "text": [
      "    0   1   2   3\n",
      "0   2  40  36  38\n",
      "1   9   1  23   7\n",
      "2  25  23   1  39\n",
      "3  36  37   3   7\n",
      "4  41   5  43  49\n",
      "5   3  11  23  25\n",
      "6  33   4  43   4\n",
      "7  48  23  25   7\n",
      "8   5  24   3  42\n",
      "9   9  44  41  17\n",
      "(10, 4)\n",
      "40\n",
      "RangeIndex(start=0, stop=4, step=1)\n",
      "RangeIndex(start=0, stop=10, step=1)\n",
      "0    int32\n",
      "1    int32\n",
      "2    int32\n",
      "3    int32\n",
      "dtype: object\n",
      "int64\n"
     ]
    }
   ],
   "source": [
    "df = pd.DataFrame(ar)\n",
    "print(df)\n",
    "\n",
    "print(df.shape)\n",
    "print(df.size)\n",
    "print(df.columns)\n",
    "print(df.index)\n",
    "print(df.dtypes)\n",
    "\n",
    "print(df.columns.dtype)\n",
    "\n",
    "# DataFrame from Dictionary"
   ]
  },
  {
   "cell_type": "code",
   "execution_count": 33,
   "metadata": {},
   "outputs": [
    {
     "name": "stdout",
     "output_type": "stream",
     "text": [
      "   AB   C   D   E\n",
      "a   2  40  36  38\n",
      "b   9   1  23   7\n",
      "c  25  23   1  39\n",
      "d  36  37   3   7\n",
      "e  41   5  43  49\n",
      "f   3  11  23  25\n",
      "g  33   4  43   4\n",
      "h  48  23  25   7\n",
      "i   5  24   3  42\n",
      "j   9  44  41  17\n",
      "Index(['AB', 'C', 'D', 'E'], dtype='object')\n",
      "Index(['a', 'b', 'c', 'd', 'e', 'f', 'g', 'h', 'i', 'j'], dtype='object')\n",
      "['AB' 'C' 'D' 'E']\n",
      "\n",
      "\n",
      "AB    int32\n",
      "C     int32\n",
      "D     int32\n",
      "E     int32\n",
      "dtype: object\n",
      "Columns\n",
      "object\n"
     ]
    }
   ],
   "source": [
    "df = pd.DataFrame(ar, index = list('abcdefghij'), columns = ['AB','C','D','E'])\n",
    "print(df)\n",
    "print(df.columns)\n",
    "print(df.index)\n",
    "print(df.columns.values)\n",
    "print('\\n')\n",
    "print(df.dtypes)\n",
    "print('Columns')\n",
    "print(df.columns.dtype)\n"
   ]
  },
  {
   "cell_type": "code",
   "execution_count": 26,
   "metadata": {},
   "outputs": [
    {
     "name": "stdout",
     "output_type": "stream",
     "text": [
      "   AB   C   D   E\n",
      "a   2  40  36  38\n",
      "b   9   1  23   7\n",
      "c  25  23   1  39\n",
      "d  36  37   3   7\n",
      "e  41   5  43  49\n",
      "f   3  11  23  25\n",
      "g  33   4  43   4\n",
      "h  48  23  25   7\n",
      "i   5  24   3  42\n",
      "j   9  44  41  17\n"
     ]
    }
   ],
   "source": [
    "print(df)"
   ]
  },
  {
   "cell_type": "code",
   "execution_count": 28,
   "metadata": {},
   "outputs": [
    {
     "name": "stdout",
     "output_type": "stream",
     "text": [
      "   AB   C   D   E\n",
      "a   2  40  36  38\n",
      "b   9   1  23   7\n",
      "c  25  23   1  39\n",
      "d  36  37   3   7\n",
      "e  41   5  43  49\n",
      "   AB   C   D   E\n",
      "f   3  11  23  25\n",
      "g  33   4  43   4\n",
      "h  48  23  25   7\n",
      "i   5  24   3  42\n",
      "j   9  44  41  17\n"
     ]
    }
   ],
   "source": [
    "print(df.head()) # 5\n",
    "print(df.tail()) # 5"
   ]
  },
  {
   "cell_type": "code",
   "execution_count": 35,
   "metadata": {
    "scrolled": true
   },
   "outputs": [
    {
     "name": "stdout",
     "output_type": "stream",
     "text": [
      "   AB   C   D   E\n",
      "a   2  40  36  38\n",
      "b   9   1  23   7\n",
      "   AB   C   D   E\n",
      "i   5  24   3  42\n",
      "j   9  44  41  17\n",
      "              AB          C          D         E\n",
      "count  10.000000  10.000000  10.000000  10.00000\n",
      "mean   21.100000  21.200000  24.100000  23.50000\n",
      "std    17.457568  15.661701  16.894772  17.27072\n",
      "min     2.000000   1.000000   1.000000   4.00000\n",
      "25%     6.000000   6.500000   8.000000   7.00000\n",
      "50%    17.000000  23.000000  24.000000  21.00000\n",
      "75%    35.250000  33.750000  39.750000  38.75000\n",
      "max    48.000000  44.000000  43.000000  49.00000\n"
     ]
    }
   ],
   "source": [
    "df = pd.DataFrame(ar, index = list('abcdefghij'), columns = ['AB','C','D','E'])\n",
    "print(df.head(2)) \n",
    "print(df.tail(2))\n",
    "#df.loc['a','b'] = np.nan\n",
    "print(df.describe())"
   ]
  },
  {
   "cell_type": "code",
   "execution_count": 40,
   "metadata": {},
   "outputs": [
    {
     "name": "stdout",
     "output_type": "stream",
     "text": [
      "   AB   C   D   E\n",
      "a   2  40  36  38\n",
      "b   9   1  23   7\n",
      "c  25  23   1  39\n",
      "d  36  37   3   7\n",
      "e  41   5  43  49\n",
      "    A   C   D   E\n",
      "a   2  40  36  38\n",
      "b   9   1  23   7\n",
      "c  25  23   1  39\n",
      "d  36  37   3   7\n",
      "e  41   5  43  49\n",
      "   AB   C   D   E\n",
      "a   2  40  36  38\n",
      "b   9   1  23   7\n",
      "c  25  23   1  39\n",
      "d  36  37   3   7\n",
      "e  41   5  43  49\n"
     ]
    }
   ],
   "source": [
    "print(df.head())\n",
    "d = {'AB': 'A'}\n",
    "df1 = df.rename(columns = d)\n",
    "print(df1.head())\n",
    "print(df.head())"
   ]
  },
  {
   "cell_type": "code",
   "execution_count": 42,
   "metadata": {},
   "outputs": [
    {
     "name": "stdout",
     "output_type": "stream",
     "text": [
      "    A   C   D   E\n",
      "a   2  40  36  38\n",
      "b   9   1  23   7\n",
      "c  25  23   1  39\n",
      "d  36  37   3   7\n",
      "e  41   5  43  49\n",
      "None\n",
      "    A   C   D   E\n",
      "a   2  40  36  38\n",
      "b   9   1  23   7\n",
      "c  25  23   1  39\n",
      "d  36  37   3   7\n",
      "e  41   5  43  49\n"
     ]
    }
   ],
   "source": [
    "print(df.head())\n",
    "d = {'AB': 'A'}\n",
    "df1 = df.rename(columns = d, inplace = True)\n",
    "print(df1)\n",
    "print(df.head())\n"
   ]
  },
  {
   "cell_type": "code",
   "execution_count": 44,
   "metadata": {},
   "outputs": [
    {
     "name": "stdout",
     "output_type": "stream",
     "text": [
      "    A   C   D   E\n",
      "a   2  40  36  38\n",
      "b   9   1  23   7\n",
      "c  25  23   1  39\n",
      "d  36  37   3   7\n",
      "e  41   5  43  49\n",
      "    A   C   D   E\n",
      "A   2  40  36  38\n",
      "b   9   1  23   7\n",
      "c  25  23   1  39\n",
      "d  36  37   3   7\n",
      "e  41   5  43  49\n"
     ]
    }
   ],
   "source": [
    "print(df.head())\n",
    "d = {'a': 'A'}\n",
    "df.rename(d, inplace = True, axis = 0)\n",
    "print(df.head())\n"
   ]
  },
  {
   "cell_type": "code",
   "execution_count": 5,
   "metadata": {},
   "outputs": [],
   "source": [
    "ar = np.random.randint(10,50,40).reshape(10,4)\n",
    "df = pd.DataFrame(ar, index = list('abcdefghij'), columns = ['AB','C','D','E'])"
   ]
  },
  {
   "cell_type": "code",
   "execution_count": 6,
   "metadata": {},
   "outputs": [
    {
     "name": "stdout",
     "output_type": "stream",
     "text": [
      "   AB   C   D   E\n",
      "a  28  36  18  34\n",
      "b  21  27  42  12\n",
      "c  14  29  27  29\n",
      "d  36  25  25  36\n",
      "e  12  44  44  49\n",
      "f  25  34  47  21\n",
      "g  28  10  35  46\n",
      "h  16  28  13  29\n",
      "i  14  18  18  43\n",
      "j  31  25  11  42\n"
     ]
    }
   ],
   "source": [
    "print(df)"
   ]
  },
  {
   "cell_type": "code",
   "execution_count": 7,
   "metadata": {},
   "outputs": [
    {
     "name": "stdout",
     "output_type": "stream",
     "text": [
      "a    28\n",
      "b    21\n",
      "c    14\n",
      "d    36\n",
      "e    12\n",
      "f    25\n",
      "g    28\n",
      "h    16\n",
      "i    14\n",
      "j    31\n",
      "Name: AB, dtype: int32\n"
     ]
    }
   ],
   "source": [
    "print(df['AB'])"
   ]
  },
  {
   "cell_type": "code",
   "execution_count": 23,
   "metadata": {},
   "outputs": [
    {
     "name": "stdout",
     "output_type": "stream",
     "text": [
      "   AB   C   D   E\n",
      "a  28  36  18  34\n",
      "b  21  27  42  12\n",
      "c  14  29  27  29\n",
      "a    116\n",
      "b    102\n",
      "c     99\n",
      "dtype: int64\n"
     ]
    }
   ],
   "source": [
    "print(df['a':'c'])\n",
    "print(df['a':'c'].sum(axis = 1))"
   ]
  },
  {
   "cell_type": "code",
   "execution_count": 19,
   "metadata": {},
   "outputs": [
    {
     "name": "stdout",
     "output_type": "stream",
     "text": [
      "28\n",
      "   AB   C   D   E\n",
      "c  14  29  27  29\n",
      "d  36  25  25  36\n",
      "e  12  44  44  49\n",
      "f  25  34  47  21\n",
      "g  28  10  35  46\n",
      "h  16  28  13  29\n",
      "i  14  18  18  43\n",
      "j  31  25  11  42\n",
      "    C   D\n",
      "c  29  27\n",
      "d  25  25\n",
      "e  44  44\n",
      "f  34  47\n",
      "g  10  35\n",
      "h  28  13\n",
      "i  18  18\n"
     ]
    }
   ],
   "source": [
    "print(df.loc['a','AB'])\n",
    "print(df.loc['c':])\n",
    "print(df.loc['c':'i', ['C','D'] ])"
   ]
  },
  {
   "cell_type": "code",
   "execution_count": 13,
   "metadata": {},
   "outputs": [
    {
     "name": "stdout",
     "output_type": "stream",
     "text": [
      "    C   D\n",
      "a  36  18\n",
      "b  27  42\n",
      "c  29  27\n",
      "d  25  25\n",
      "e  44  44\n",
      "f  34  47\n",
      "g  10  35\n",
      "h  28  13\n",
      "i  18  18\n",
      "j  25  11\n"
     ]
    }
   ],
   "source": [
    "\n",
    "print(df.loc[:, ['C','D'] ])"
   ]
  },
  {
   "cell_type": "code",
   "execution_count": 18,
   "metadata": {},
   "outputs": [
    {
     "name": "stdout",
     "output_type": "stream",
     "text": [
      "AB    28\n",
      "C     36\n",
      "D     18\n",
      "E     34\n",
      "Name: a, dtype: int32\n",
      "\n",
      "   AB   C   D   E\n",
      "a  28  36  18  34\n",
      "b  21  27  42  12\n",
      "c  14  29  27  29\n",
      "d  36  25  25  36\n",
      "e  12  44  44  49\n",
      "\n",
      "a    34\n",
      "b    12\n",
      "c    29\n",
      "d    36\n",
      "e    49\n",
      "Name: E, dtype: int32\n"
     ]
    }
   ],
   "source": [
    "print(df.iloc[0])\n",
    "print()\n",
    "print(df.iloc[0:5])\n",
    "print()\n",
    "print(df.iloc[0:5, 3])"
   ]
  },
  {
   "cell_type": "code",
   "execution_count": 24,
   "metadata": {},
   "outputs": [
    {
     "name": "stdout",
     "output_type": "stream",
     "text": [
      "a    28\n",
      "b    21\n",
      "c    14\n",
      "d    36\n",
      "e    12\n",
      "f    25\n",
      "g    28\n",
      "h    16\n",
      "i    14\n",
      "j    31\n",
      "Name: AB, dtype: int32\n"
     ]
    }
   ],
   "source": [
    "print(df.AB)"
   ]
  }
 ],
 "metadata": {
  "kernelspec": {
   "display_name": "Python 3",
   "language": "python",
   "name": "python3"
  },
  "language_info": {
   "codemirror_mode": {
    "name": "ipython",
    "version": 3
   },
   "file_extension": ".py",
   "mimetype": "text/x-python",
   "name": "python",
   "nbconvert_exporter": "python",
   "pygments_lexer": "ipython3",
   "version": "3.7.3"
  }
 },
 "nbformat": 4,
 "nbformat_minor": 2
}
