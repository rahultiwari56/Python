{
 "cells": [
  {
   "cell_type": "code",
   "execution_count": 6,
   "metadata": {},
   "outputs": [
    {
     "name": "stdout",
     "output_type": "stream",
     "text": [
      "['0', '9.5', 'aBC', 'abc', 'xyz']\n"
     ]
    }
   ],
   "source": [
    "a = ['9.5', '0','xyz','abc', 'aBC']\n",
    "a.sort()\n",
    "print(a)"
   ]
  },
  {
   "cell_type": "code",
   "execution_count": 3,
   "metadata": {},
   "outputs": [
    {
     "data": {
      "text/plain": [
       "48"
      ]
     },
     "execution_count": 3,
     "metadata": {},
     "output_type": "execute_result"
    }
   ],
   "source": [
    "ord('9')\n",
    "ord('0')"
   ]
  },
  {
   "cell_type": "code",
   "execution_count": 10,
   "metadata": {},
   "outputs": [
    {
     "name": "stdout",
     "output_type": "stream",
     "text": [
      "[1, 3, 5, 7, 8, 6, 4, 2] [1, 3, 5, 7]\n"
     ]
    }
   ],
   "source": [
    "L = [1,3,5,7]\n",
    "T = (8,6,4,2)\n",
    "LS = L.copy()\n",
    "LS.extend(T)\n",
    "print(LS, L)"
   ]
  },
  {
   "cell_type": "code",
   "execution_count": 19,
   "metadata": {},
   "outputs": [
    {
     "name": "stdout",
     "output_type": "stream",
     "text": [
      "False\n",
      "True\n",
      "True\n",
      "False\n",
      "\n",
      "True\n",
      "False\n",
      "\n",
      "False\n",
      "True\n",
      "True\n",
      "\n",
      "False\n",
      "True\n",
      "1\n",
      "0\n"
     ]
    }
   ],
   "source": [
    "print(bool())\n",
    "print(bool(10))\n",
    "print(bool(-10))\n",
    "print(bool(-0))\n",
    "print()\n",
    "print(bool(-0.1))\n",
    "print(bool(0.0))\n",
    "print()\n",
    "print(bool(''))\n",
    "print(bool(' '))\n",
    "print(bool('0'))\n",
    "print()\n",
    "print(bool([]))\n",
    "print(bool([0]))\n",
    "\n",
    "print(int(True))\n",
    "print(int(False))"
   ]
  },
  {
   "cell_type": "markdown",
   "metadata": {},
   "source": [
    "### While and for"
   ]
  },
  {
   "cell_type": "code",
   "execution_count": null,
   "metadata": {},
   "outputs": [],
   "source": [
    "x = 1\n",
    "print(x)\n",
    "x = x + 1\n",
    "print(x)\n",
    "x = x + 1\n",
    "print(x)"
   ]
  },
  {
   "cell_type": "code",
   "execution_count": null,
   "metadata": {},
   "outputs": [],
   "source": [
    "...\n",
    "while <condition>:\n",
    "    <code>\n",
    "..."
   ]
  },
  {
   "cell_type": "code",
   "execution_count": 20,
   "metadata": {},
   "outputs": [
    {
     "name": "stdout",
     "output_type": "stream",
     "text": [
      "1\n",
      "2\n",
      "3\n",
      "After Loop\n"
     ]
    }
   ],
   "source": [
    "x = 1\n",
    "while x <= 3:\n",
    "    print(x)\n",
    "    x += 1 # x = x + 1\n",
    "print('After Loop')\n",
    "# x 1  2 3 4\n",
    "# 1 \n",
    "# 2\n",
    "# 3"
   ]
  },
  {
   "cell_type": "code",
   "execution_count": 23,
   "metadata": {},
   "outputs": [
    {
     "name": "stdout",
     "output_type": "stream",
     "text": [
      "10\n",
      "9\n",
      "8\n",
      "7\n",
      "6\n",
      "5\n",
      "4\n",
      "3\n",
      "2\n",
      "1\n"
     ]
    }
   ],
   "source": [
    "# WAP to print numbers from 10-1 using while loop\n",
    "x=10\n",
    "while x>=1:\n",
    "    print(x)\n",
    "    x-=1"
   ]
  },
  {
   "cell_type": "code",
   "execution_count": 25,
   "metadata": {},
   "outputs": [
    {
     "name": "stdout",
     "output_type": "stream",
     "text": [
      "Enter a string:abcd ef\n",
      "a 97\n",
      "b 98\n",
      "c 99\n",
      "d 100\n",
      "  32\n",
      "e 101\n",
      "f 102\n"
     ]
    }
   ],
   "source": [
    "s = input('Enter a string:')\n",
    "i = 0\n",
    "while i < len(s):\n",
    "    print(s[i], ord(s[i]))\n",
    "    i += 1"
   ]
  },
  {
   "cell_type": "code",
   "execution_count": 26,
   "metadata": {},
   "outputs": [
    {
     "name": "stdout",
     "output_type": "stream",
     "text": [
      "Enter n:10\n",
      "2\n",
      "4\n",
      "6\n",
      "8\n",
      "10\n"
     ]
    }
   ],
   "source": [
    "# WAP to input a no 'n' and print all even number from 2 - n\n",
    "n = int(input('Enter n:'))\n",
    "x= 2\n",
    "while x <= n:\n",
    "    print(x)\n",
    "    x+=2"
   ]
  },
  {
   "cell_type": "code",
   "execution_count": 28,
   "metadata": {},
   "outputs": [
    {
     "name": "stdout",
     "output_type": "stream",
     "text": [
      "range(0, 10)\n",
      "[0, 1, 2, 3, 4, 5, 6, 7, 8, 9]\n"
     ]
    }
   ],
   "source": [
    "r = range(10) # sequence\n",
    "print(r)\n",
    "print(list(r))"
   ]
  },
  {
   "cell_type": "code",
   "execution_count": null,
   "metadata": {},
   "outputs": [],
   "source": [
    "for <var> in <sequence>:\n",
    "    <some code>"
   ]
  },
  {
   "cell_type": "code",
   "execution_count": 29,
   "metadata": {},
   "outputs": [
    {
     "name": "stdout",
     "output_type": "stream",
     "text": [
      "a\n",
      "b\n",
      "c\n",
      "d\n"
     ]
    }
   ],
   "source": [
    "for i in 'abcd':\n",
    "    print(i)"
   ]
  },
  {
   "cell_type": "code",
   "execution_count": 30,
   "metadata": {},
   "outputs": [
    {
     "name": "stdout",
     "output_type": "stream",
     "text": [
      "10\n",
      "20\n",
      "30\n",
      "40\n"
     ]
    }
   ],
   "source": [
    "l = [10,20,30,40]\n",
    "for data in l:\n",
    "    print(data)"
   ]
  },
  {
   "cell_type": "code",
   "execution_count": 31,
   "metadata": {},
   "outputs": [
    {
     "name": "stdout",
     "output_type": "stream",
     "text": [
      "0\n",
      "1\n",
      "2\n",
      "3\n",
      "4\n",
      "5\n",
      "6\n",
      "7\n",
      "8\n",
      "9\n"
     ]
    }
   ],
   "source": [
    "for data in range(10):\n",
    "    print(data)"
   ]
  },
  {
   "cell_type": "code",
   "execution_count": 32,
   "metadata": {},
   "outputs": [
    {
     "name": "stdout",
     "output_type": "stream",
     "text": [
      "20\n",
      "21\n",
      "22\n",
      "23\n",
      "24\n"
     ]
    }
   ],
   "source": [
    "for d in range(20,25):\n",
    "    print(d)"
   ]
  },
  {
   "cell_type": "code",
   "execution_count": 34,
   "metadata": {},
   "outputs": [
    {
     "name": "stdout",
     "output_type": "stream",
     "text": [
      "20\n",
      "30\n",
      "40\n",
      "50\n",
      "60\n",
      "70\n",
      "80\n"
     ]
    }
   ],
   "source": [
    "for d in range(20,81,10):\n",
    "    print(d)"
   ]
  },
  {
   "cell_type": "code",
   "execution_count": 4,
   "metadata": {},
   "outputs": [
    {
     "name": "stdout",
     "output_type": "stream",
     "text": [
      "Input: 10\n",
      "2\n",
      "4\n",
      "6\n",
      "8\n",
      "10\n"
     ]
    }
   ],
   "source": [
    "n = int(input('Input: '))\n",
    "for i in range(2,n+1,2):\n",
    "    print(i)"
   ]
  },
  {
   "cell_type": "code",
   "execution_count": 3,
   "metadata": {},
   "outputs": [
    {
     "name": "stdout",
     "output_type": "stream",
     "text": [
      "10,9,8,7,6,5,4,3,2,1,"
     ]
    }
   ],
   "source": [
    "for i in range(10,0,-1):\n",
    "    print(i, end = ',')"
   ]
  },
  {
   "cell_type": "code",
   "execution_count": 6,
   "metadata": {},
   "outputs": [
    {
     "name": "stdout",
     "output_type": "stream",
     "text": [
      "Enter numbers separated by space10 20 30 40\n",
      "['10', '20', '30', '40']\n",
      "[10, 20, 30, 40]\n"
     ]
    }
   ],
   "source": [
    "s = input('Enter numbers separated by space:')\n",
    "\n",
    "r = s.split()\n",
    "print(r)\n",
    "a = []\n",
    "for data in r:\n",
    "    a.append(int(data))\n",
    "print(a)"
   ]
  },
  {
   "cell_type": "code",
   "execution_count": 1,
   "metadata": {},
   "outputs": [
    {
     "name": "stdout",
     "output_type": "stream",
     "text": [
      "hellow\n",
      "hellow\n",
      "hellow\n",
      "hellow\n",
      "hellow\n",
      "hellow\n",
      "hellow\n",
      "hellow\n",
      "hellow\n",
      "hellow\n"
     ]
    }
   ],
   "source": [
    "i = 1\n",
    "while i <= 10:\n",
    "    print(\"hellow\")\n",
    "    i += 1"
   ]
  },
  {
   "cell_type": "code",
   "execution_count": 2,
   "metadata": {},
   "outputs": [
    {
     "name": "stdout",
     "output_type": "stream",
     "text": [
      "world\n",
      "world\n",
      "world\n",
      "world\n",
      "world\n",
      "world\n",
      "world\n",
      "world\n",
      "world\n",
      "world\n"
     ]
    }
   ],
   "source": [
    "for _ in range(10):\n",
    "    print('world')"
   ]
  },
  {
   "cell_type": "code",
   "execution_count": null,
   "metadata": {},
   "outputs": [],
   "source": [
    "i = 0\n",
    "import random\n",
    "a = []\n",
    "while i < 5:\n",
    "    a.append(random.randint(10,20))\n",
    "print(a)"
   ]
  },
  {
   "cell_type": "code",
   "execution_count": 10,
   "metadata": {},
   "outputs": [
    {
     "name": "stdout",
     "output_type": "stream",
     "text": [
      "100\n"
     ]
    }
   ],
   "source": [
    "a = [10,20,30,40]\n",
    "s = 0\n",
    "i = 0\n",
    "while i < len(a):\n",
    "    s += a[i]\n",
    "    i += 1\n",
    "print(s)\n",
    "# s 0 10 30 60 100\n",
    "# i   0  1  2  3   4"
   ]
  },
  {
   "cell_type": "code",
   "execution_count": 3,
   "metadata": {},
   "outputs": [
    {
     "name": "stdout",
     "output_type": "stream",
     "text": [
      "100\n",
      "100\n",
      "[10, 20, 30, 40]\n",
      "[100, 200, 300, 400]\n"
     ]
    }
   ],
   "source": [
    "a = [10,20,30,40]\n",
    "s = 0\n",
    "for num in range(len(a)):\n",
    "    s += a[num]\n",
    "print(s)\n",
    "\n",
    "# without index\n",
    "a = [10,20,30,40]\n",
    "s = 0\n",
    "for num in a:\n",
    "    s += num\n",
    "print(s)\n",
    "\n",
    "# multiply by 10\n",
    "a = [10,20,30,40]\n",
    "for hi in a:\n",
    "    hi = hi*10\n",
    "print(a)\n",
    "\n",
    "\n",
    "# multiply by 10\n",
    "a = [10,20,30,40]\n",
    "for i in range(len(a)):\n",
    "    a[i] = a[i]*10 # a[i] *= 10\n",
    "print(a)"
   ]
  },
  {
   "cell_type": "code",
   "execution_count": 17,
   "metadata": {},
   "outputs": [
    {
     "name": "stdout",
     "output_type": "stream",
     "text": [
      "Enter n to exit:1\n",
      "Enter n to exit:2\n",
      "Enter n to exit:3\n",
      "Enter n to exit:n\n",
      "Repeated:  3\n"
     ]
    }
   ],
   "source": [
    "s = input('Enter n to exit:')\n",
    "\n",
    "count = 0\n",
    "while s != 'n':\n",
    "    s = input('Enter n to exit:')\n",
    "    count += 1\n",
    "\n",
    "print('Repeated: ', count)"
   ]
  }
 ],
 "metadata": {
  "kernelspec": {
   "display_name": "Python 3",
   "language": "python",
   "name": "python3"
  },
  "language_info": {
   "codemirror_mode": {
    "name": "ipython",
    "version": 3
   },
   "file_extension": ".py",
   "mimetype": "text/x-python",
   "name": "python",
   "nbconvert_exporter": "python",
   "pygments_lexer": "ipython3",
   "version": "3.7.3"
  }
 },
 "nbformat": 4,
 "nbformat_minor": 2
}
