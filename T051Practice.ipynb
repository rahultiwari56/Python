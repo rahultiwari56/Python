{
 "cells": [
  {
   "cell_type": "code",
   "execution_count": null,
   "metadata": {},
   "outputs": [],
   "source": [
    "# WAF that takes a string and return a random char from that string"
   ]
  },
  {
   "cell_type": "code",
   "execution_count": 26,
   "metadata": {},
   "outputs": [
    {
     "name": "stdout",
     "output_type": "stream",
     "text": [
      "2\n",
      "2\n"
     ]
    }
   ],
   "source": [
    "import random\n",
    "\n",
    "print(random.randrange(1,3))\n",
    "print(random.randint(1,3))"
   ]
  },
  {
   "cell_type": "code",
   "execution_count": 1,
   "metadata": {},
   "outputs": [
    {
     "name": "stdout",
     "output_type": "stream",
     "text": [
      "1 2 3 True\n",
      "pqr\n"
     ]
    }
   ],
   "source": [
    "print(1,2,3,True)\n",
    "print('pqr')"
   ]
  },
  {
   "cell_type": "code",
   "execution_count": 2,
   "metadata": {},
   "outputs": [
    {
     "name": "stdout",
     "output_type": "stream",
     "text": [
      "1 2 3 True\n",
      "pq\n"
     ]
    }
   ],
   "source": [
    "print(\"1 2 3 True\\npq\")"
   ]
  },
  {
   "cell_type": "code",
   "execution_count": 3,
   "metadata": {},
   "outputs": [
    {
     "name": "stdout",
     "output_type": "stream",
     "text": [
      "1#2#3#True\n",
      "kl\n"
     ]
    }
   ],
   "source": [
    "print(1,2,3,True, sep = '#', end='\\n')\n",
    "print('kl')"
   ]
  },
  {
   "cell_type": "code",
   "execution_count": 4,
   "metadata": {},
   "outputs": [
    {
     "name": "stdout",
     "output_type": "stream",
     "text": [
      "1#2#3#True,def\n"
     ]
    }
   ],
   "source": [
    "print(1,2,3,True, sep = '#', end=',')\n",
    "print('def')"
   ]
  },
  {
   "cell_type": "code",
   "execution_count": 35,
   "metadata": {},
   "outputs": [
    {
     "name": "stdout",
     "output_type": "stream",
     "text": [
      "abcd10\n"
     ]
    }
   ],
   "source": [
    "s1 = \"abcd\"\n",
    "s1 = s1 + str(10)\n",
    "print(s1)"
   ]
  },
  {
   "cell_type": "code",
   "execution_count": 37,
   "metadata": {},
   "outputs": [
    {
     "name": "stdout",
     "output_type": "stream",
     "text": [
      "<built-in function print>\n",
      "X =  10  Y =  20 s =  abcd f= 10.999\n"
     ]
    }
   ],
   "source": [
    "x = 10\n",
    "y = 20\n",
    "s = 'abcd'\n",
    "f = 10.999\n",
    "\n",
    "print(print)\n",
    "print('X = ', x , ' Y = ', y, 's = ', s, 'f=',f)"
   ]
  },
  {
   "cell_type": "code",
   "execution_count": 50,
   "metadata": {},
   "outputs": [
    {
     "name": "stdout",
     "output_type": "stream",
     "text": [
      "x = 0000010 y = 20    s = abcd f = 10\n"
     ]
    }
   ],
   "source": [
    "x = 10\n",
    "y = 20\n",
    "s = 'abcd'\n",
    "f = 10.999\n",
    "\n",
    "\n",
    "print(\"x = %07d y = %-05d s = %s f = %0.2d\" % (x,y,s,f)  )"
   ]
  },
  {
   "cell_type": "code",
   "execution_count": 47,
   "metadata": {},
   "outputs": [
    {
     "name": "stdout",
     "output_type": "stream",
     "text": [
      "x = 10 y = 20 s = abcd f = 10.999\n"
     ]
    }
   ],
   "source": [
    "x = 10\n",
    "y = 20\n",
    "s = 'abcd'\n",
    "f = 10.999\n",
    "\n",
    "# format strings\n",
    "print(\"x = {} y = {} s = {} f = {}\".format(x,y,s,f)  )"
   ]
  },
  {
   "cell_type": "code",
   "execution_count": null,
   "metadata": {},
   "outputs": [],
   "source": []
  }
 ],
 "metadata": {
  "kernelspec": {
   "display_name": "Python 3",
   "language": "python",
   "name": "python3"
  },
  "language_info": {
   "codemirror_mode": {
    "name": "ipython",
    "version": 3
   },
   "file_extension": ".py",
   "mimetype": "text/x-python",
   "name": "python",
   "nbconvert_exporter": "python",
   "pygments_lexer": "ipython3",
   "version": "3.7.3"
  }
 },
 "nbformat": 4,
 "nbformat_minor": 2
}
