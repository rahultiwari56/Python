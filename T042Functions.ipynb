{
 "cells": [
  {
   "cell_type": "code",
   "execution_count": 1,
   "metadata": {},
   "outputs": [
    {
     "name": "stdout",
     "output_type": "stream",
     "text": [
      "['In', 'Out', '_', '__', '___', '__builtin__', '__builtins__', '__doc__', '__loader__', '__name__', '__package__', '__spec__', '_dh', '_i', '_i1', '_ih', '_ii', '_iii', '_oh', 'exit', 'get_ipython', 'print_name', 'quit']\n",
      "wxyz\n",
      "abcd\n",
      "wxyz\n",
      "abcd\n"
     ]
    }
   ],
   "source": [
    "def print_name():\n",
    "    print(\"wxyz\")   \n",
    "    print('abcd')\n",
    "\n",
    "print(dir())\n",
    "print_name\n",
    "print_name()\n",
    "print_name()"
   ]
  },
  {
   "cell_type": "code",
   "execution_count": 7,
   "metadata": {},
   "outputs": [
    {
     "name": "stdout",
     "output_type": "stream",
     "text": [
      "100\n",
      "12321\n"
     ]
    }
   ],
   "source": [
    "def square(x):\n",
    "    print(x ** 2)\n",
    "    \n",
    "square(10)\n",
    "a = 111\n",
    "square(a)"
   ]
  },
  {
   "cell_type": "code",
   "execution_count": 8,
   "metadata": {},
   "outputs": [
    {
     "name": "stdout",
     "output_type": "stream",
     "text": [
      "Enter P:100\n",
      "Enter R:1\n",
      "Enter T:2\n",
      "2.0\n"
     ]
    }
   ],
   "source": [
    "def SI():\n",
    "    p = int(input('Enter P:'))\n",
    "    r = int(input('Enter R:'))\n",
    "    t = int(input('Enter T:'))\n",
    "    print(p*r*t/100)\n",
    "    \n",
    "SI()"
   ]
  },
  {
   "cell_type": "code",
   "execution_count": 10,
   "metadata": {},
   "outputs": [
    {
     "name": "stdout",
     "output_type": "stream",
     "text": [
      "Enter P:100\n",
      "Enter R:9\n",
      "Enter T:9\n",
      "7.29\n",
      "1200.0\n"
     ]
    }
   ],
   "source": [
    "def SI(p,r,t):\n",
    "    print(p*r*t/100)\n",
    "    \n",
    "p = int(input('Enter P:'))\n",
    "r = int(input('Enter R:'))\n",
    "t = int(input('Enter T:'))\n",
    "SI(r,r,t)\n",
    "SI(1000,30,4)"
   ]
  },
  {
   "cell_type": "code",
   "execution_count": 11,
   "metadata": {},
   "outputs": [
    {
     "name": "stdout",
     "output_type": "stream",
     "text": [
      "funct\n",
      "None\n"
     ]
    }
   ],
   "source": [
    "def funct():\n",
    "    print('funct')\n",
    "    \n",
    "r = funct()\n",
    "print(r)"
   ]
  },
  {
   "cell_type": "code",
   "execution_count": 16,
   "metadata": {},
   "outputs": [
    {
     "name": "stdout",
     "output_type": "stream",
     "text": [
      "10\n"
     ]
    }
   ],
   "source": [
    "def funct():\n",
    "    return 10\n",
    "    \n",
    "r = funct()\n",
    "print(r)"
   ]
  },
  {
   "cell_type": "code",
   "execution_count": 18,
   "metadata": {},
   "outputs": [
    {
     "name": "stdout",
     "output_type": "stream",
     "text": [
      "42\n"
     ]
    }
   ],
   "source": [
    "def add(x,y):\n",
    "    return x + y\n",
    "\n",
    "print(add(1,2) + add(10,29))"
   ]
  },
  {
   "cell_type": "code",
   "execution_count": 20,
   "metadata": {},
   "outputs": [
    {
     "name": "stdout",
     "output_type": "stream",
     "text": [
      "Enter P:100\n",
      "Enter R:9\n",
      "Enter T:9\n",
      "81.0\n",
      "2200.0\n"
     ]
    }
   ],
   "source": [
    "def SI(p,r,t):\n",
    "    return p*r*t/100\n",
    "    \n",
    "p = int(input('Enter P:'))\n",
    "r = int(input('Enter R:'))\n",
    "t = int(input('Enter T:'))\n",
    "s = SI(p,r,t)\n",
    "print(s)\n",
    "r = SI(1000,30,4) + 1000\n",
    "print(r)"
   ]
  },
  {
   "cell_type": "code",
   "execution_count": 2,
   "metadata": {},
   "outputs": [
    {
     "name": "stdout",
     "output_type": "stream",
     "text": [
      "2200.0\n"
     ]
    }
   ],
   "source": [
    "def SI(p,r,t):\n",
    "    return p*r*t/100\n",
    "\n",
    "r = SI(1000,30,4) + 1000\n",
    "print(r)"
   ]
  },
  {
   "cell_type": "code",
   "execution_count": 5,
   "metadata": {},
   "outputs": [
    {
     "name": "stdout",
     "output_type": "stream",
     "text": [
      "Help on function SI in module __main__:\n",
      "\n",
      "SI(p, r, t)\n",
      "\n",
      "\n",
      "['__annotations__', '__call__', '__class__', '__closure__', '__code__', '__defaults__', '__delattr__', '__dict__', '__dir__', '__doc__', '__eq__', '__format__', '__ge__', '__get__', '__getattribute__', '__globals__', '__gt__', '__hash__', '__init__', '__init_subclass__', '__kwdefaults__', '__le__', '__lt__', '__module__', '__name__', '__ne__', '__new__', '__qualname__', '__reduce__', '__reduce_ex__', '__repr__', '__setattr__', '__sizeof__', '__str__', '__subclasshook__']\n",
      "DOcument: None\n"
     ]
    }
   ],
   "source": [
    "help(SI)\n",
    "\n",
    "print()\n",
    "print(dir(SI))\n",
    "print(\"DOcument:\", SI.__doc__)"
   ]
  },
  {
   "cell_type": "code",
   "execution_count": 6,
   "metadata": {},
   "outputs": [
    {
     "name": "stdout",
     "output_type": "stream",
     "text": [
      "2200.0\n"
     ]
    }
   ],
   "source": [
    "# doc string\n",
    "def SI(p,r,t):\n",
    "    \"\"\" SI function:\n",
    "    SI(p,r,t): Principal....\"\"\"\n",
    "    return p*r*t/100\n",
    "\n",
    "r = SI(1000,30,4) + 1000\n",
    "print(r)"
   ]
  },
  {
   "cell_type": "code",
   "execution_count": 7,
   "metadata": {},
   "outputs": [
    {
     "name": "stdout",
     "output_type": "stream",
     "text": [
      "Help on function SI in module __main__:\n",
      "\n",
      "SI(p, r, t)\n",
      "    SI function:\n",
      "    SI(p,r,t): Principal....\n",
      "\n",
      "\n",
      "['__annotations__', '__call__', '__class__', '__closure__', '__code__', '__defaults__', '__delattr__', '__dict__', '__dir__', '__doc__', '__eq__', '__format__', '__ge__', '__get__', '__getattribute__', '__globals__', '__gt__', '__hash__', '__init__', '__init_subclass__', '__kwdefaults__', '__le__', '__lt__', '__module__', '__name__', '__ne__', '__new__', '__qualname__', '__reduce__', '__reduce_ex__', '__repr__', '__setattr__', '__sizeof__', '__str__', '__subclasshook__']\n",
      "DOcument:  SI function:\n",
      "    SI(p,r,t): Principal....\n"
     ]
    }
   ],
   "source": [
    "help(SI)\n",
    "\n",
    "print()\n",
    "print(dir(SI))\n",
    "print(\"DOcument:\", SI.__doc__)"
   ]
  },
  {
   "cell_type": "code",
   "execution_count": 10,
   "metadata": {},
   "outputs": [
    {
     "name": "stdout",
     "output_type": "stream",
     "text": [
      "PRT:  1000 5 6\n",
      "300.0\n",
      "PRT:  1000 5 1\n",
      "50.0\n"
     ]
    }
   ],
   "source": [
    "# Default arugments\n",
    "def SI(p,r,t = 1):\n",
    "    \"\"\" SI function:\n",
    "    SI(p,r,t): Principal....\"\"\"\n",
    "    print(\"PRT: \", p,r,t)\n",
    "    return p*r*t/100\n",
    "\n",
    "print(SI(1000,5,6))\n",
    "print(SI(1000,5))"
   ]
  },
  {
   "cell_type": "code",
   "execution_count": 12,
   "metadata": {},
   "outputs": [
    {
     "name": "stdout",
     "output_type": "stream",
     "text": [
      "PRT:  1000 50 6\n",
      "3000.0\n",
      "PRT:  1000 50 1\n",
      "500.0\n",
      "PRT:  1000 5 1\n",
      "50.0\n"
     ]
    }
   ],
   "source": [
    "# Default arugments\n",
    "def SI(p,r = 5,t = 1):\n",
    "    \"\"\" SI function:\n",
    "    SI(p,r,t): Principal....\"\"\"\n",
    "    print(\"PRT: \", p,r,t)\n",
    "    return p*r*t/100\n",
    "\n",
    "print(SI(1000,50,6))\n",
    "print(SI(1000,50))\n",
    "print(SI(1000))"
   ]
  },
  {
   "cell_type": "code",
   "execution_count": 14,
   "metadata": {},
   "outputs": [
    {
     "ename": "SyntaxError",
     "evalue": "non-default argument follows default argument (<ipython-input-14-45bbafeb6571>, line 2)",
     "output_type": "error",
     "traceback": [
      "\u001b[1;36m  File \u001b[1;32m\"<ipython-input-14-45bbafeb6571>\"\u001b[1;36m, line \u001b[1;32m2\u001b[0m\n\u001b[1;33m    def SI(p = 10000,r,t = 1): # this gives error cos r doesn't have a default value\u001b[0m\n\u001b[1;37m          ^\u001b[0m\n\u001b[1;31mSyntaxError\u001b[0m\u001b[1;31m:\u001b[0m non-default argument follows default argument\n"
     ]
    }
   ],
   "source": [
    "#For an arg to have default.. all on its right should also have a default\n",
    "def SI(p = 10000,r,t = 1): # this gives error cos r doesn't have a default value\n",
    "    \"\"\" SI function:\n",
    "    SI(p,r,t): Principal....\"\"\"\n",
    "    print(\"PRT: \", p,r,t)\n",
    "    return p*r*t/100"
   ]
  },
  {
   "cell_type": "code",
   "execution_count": 20,
   "metadata": {},
   "outputs": [
    {
     "name": "stdout",
     "output_type": "stream",
     "text": [
      "(10, 20) <class 'tuple'>\n",
      "(10, 20)\n",
      "10 20\n"
     ]
    }
   ],
   "source": [
    "def funct():\n",
    "    return 10,20\n",
    "\n",
    "r  = funct()\n",
    "print(r, type(r))\n",
    "\n",
    "x = 10\n",
    "y = 20\n",
    "r = x, y\n",
    "print(r)\n",
    "a,b = r\n",
    "print(a,b)"
   ]
  }
 ],
 "metadata": {
  "kernelspec": {
   "display_name": "Python 3",
   "language": "python",
   "name": "python3"
  },
  "language_info": {
   "codemirror_mode": {
    "name": "ipython",
    "version": 3
   },
   "file_extension": ".py",
   "mimetype": "text/x-python",
   "name": "python",
   "nbconvert_exporter": "python",
   "pygments_lexer": "ipython3",
   "version": "3.7.3"
  }
 },
 "nbformat": 4,
 "nbformat_minor": 2
}
