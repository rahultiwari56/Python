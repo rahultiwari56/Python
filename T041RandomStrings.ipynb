{
 "cells": [
  {
   "cell_type": "code",
   "execution_count": 1,
   "metadata": {},
   "outputs": [
    {
     "name": "stdout",
     "output_type": "stream",
     "text": [
      "abc qpr aa   aa\n",
      "5\n"
     ]
    }
   ],
   "source": [
    "# WAP to input a strig and print no. of spaces\n",
    "s = input()\n",
    "\n",
    "print(s.count(' '))"
   ]
  },
  {
   "cell_type": "code",
   "execution_count": null,
   "metadata": {},
   "outputs": [],
   "source": [
    "x,y=y,x"
   ]
  },
  {
   "cell_type": "code",
   "execution_count": null,
   "metadata": {},
   "outputs": [],
   "source": [
    "c=a\n",
    "a=b\n",
    "b=c"
   ]
  },
  {
   "cell_type": "code",
   "execution_count": 12,
   "metadata": {},
   "outputs": [
    {
     "name": "stdout",
     "output_type": "stream",
     "text": [
      "bcd\n",
      "bcdefghi\n",
      "abcd\n",
      "bdf\n",
      "\n",
      "fghi\n",
      "fg\n",
      "\n",
      "\n",
      "fedc\n",
      "ihgfedcba\n",
      "igeca\n",
      "iea\n"
     ]
    }
   ],
   "source": [
    "s  = 'abcdefghi'\n",
    "# +   012345678 \n",
    "# -   987654321\n",
    "\n",
    "print(s[1:4])\n",
    "print(s[1:])\n",
    "print(s[:4])\n",
    "print(s[1:7:2])\n",
    "\n",
    "print()\n",
    "print(s[-4:])\n",
    "print(s[-4:-2])\n",
    "print(s[-4:-8]) # empty\n",
    "\n",
    "print()\n",
    "print(s[-4:-8: -1]) # empty\n",
    "print(s[::-1])\n",
    "print(s[::-2])\n",
    "print(s[::-2][::2])"
   ]
  },
  {
   "cell_type": "markdown",
   "metadata": {},
   "source": [
    "### Module importing"
   ]
  },
  {
   "cell_type": "code",
   "execution_count": 20,
   "metadata": {},
   "outputs": [
    {
     "name": "stdout",
     "output_type": "stream",
     "text": [
      "0.6936299461960059\n"
     ]
    }
   ],
   "source": [
    "import random\n",
    "print(random.random())"
   ]
  },
  {
   "cell_type": "code",
   "execution_count": 46,
   "metadata": {
    "scrolled": true
   },
   "outputs": [
    {
     "name": "stdout",
     "output_type": "stream",
     "text": [
      "9\n",
      "17\n",
      "16\n",
      "13\n"
     ]
    }
   ],
   "source": [
    "print(random.randrange(10)) # 0-9\n",
    "print(random.randrange(10,20)) # 10-19\n",
    "print(random.randrange(10,20,2)) # 10,12,14,16,18\n",
    "\n",
    "print(random.randint(10,20)) # 10 - 20"
   ]
  },
  {
   "cell_type": "code",
   "execution_count": 47,
   "metadata": {},
   "outputs": [],
   "source": [
    "from random import * "
   ]
  },
  {
   "cell_type": "code",
   "execution_count": 49,
   "metadata": {},
   "outputs": [],
   "source": [
    "from random import randint, randrange"
   ]
  },
  {
   "cell_type": "code",
   "execution_count": 56,
   "metadata": {},
   "outputs": [
    {
     "name": "stdout",
     "output_type": "stream",
     "text": [
      "11\n"
     ]
    }
   ],
   "source": [
    "import random as rd # alias name for random\n",
    "print(rd.randint(10,20))"
   ]
  },
  {
   "cell_type": "markdown",
   "metadata": {},
   "source": [
    "#### ORD, CHR\n",
    "A- 65\n",
    "a- 97\n",
    "b- 98"
   ]
  },
  {
   "cell_type": "code",
   "execution_count": 62,
   "metadata": {},
   "outputs": [
    {
     "name": "stdout",
     "output_type": "stream",
     "text": [
      "65\n",
      "90\n",
      "97\n",
      "98\n",
      "10\n"
     ]
    }
   ],
   "source": [
    "print(ord('A'));print(ord('Z'))\n",
    "print(ord('a'));print(ord('b'))\n",
    "print(ord('\\n'))"
   ]
  },
  {
   "cell_type": "code",
   "execution_count": 64,
   "metadata": {},
   "outputs": [
    {
     "name": "stdout",
     "output_type": "stream",
     "text": [
      "b\n",
      "A\n"
     ]
    }
   ],
   "source": [
    "print(chr(98))\n",
    "print(chr(65))"
   ]
  },
  {
   "cell_type": "code",
   "execution_count": 65,
   "metadata": {},
   "outputs": [
    {
     "name": "stdout",
     "output_type": "stream",
     "text": [
      "48\n"
     ]
    }
   ],
   "source": [
    "print(ord('0'))\n",
    "print('abc0098p')"
   ]
  },
  {
   "cell_type": "code",
   "execution_count": null,
   "metadata": {},
   "outputs": [],
   "source": [
    "# WAP to input a string and print one random character from that string"
   ]
  },
  {
   "cell_type": "code",
   "execution_count": null,
   "metadata": {},
   "outputs": [],
   "source": [
    "# WAP to print a random capital Alphabet"
   ]
  },
  {
   "cell_type": "code",
   "execution_count": 71,
   "metadata": {},
   "outputs": [
    {
     "name": "stdout",
     "output_type": "stream",
     "text": [
      "86\n",
      "V\n"
     ]
    }
   ],
   "source": [
    "import random as rd\n",
    "a = rd.randrange(65,91)\n",
    "print(a)\n",
    "print(chr(a))\n"
   ]
  },
  {
   "cell_type": "code",
   "execution_count": null,
   "metadata": {},
   "outputs": [],
   "source": []
  }
 ],
 "metadata": {
  "kernelspec": {
   "display_name": "Python 3",
   "language": "python",
   "name": "python3"
  },
  "language_info": {
   "codemirror_mode": {
    "name": "ipython",
    "version": 3
   },
   "file_extension": ".py",
   "mimetype": "text/x-python",
   "name": "python",
   "nbconvert_exporter": "python",
   "pygments_lexer": "ipython3",
   "version": "3.7.3"
  }
 },
 "nbformat": 4,
 "nbformat_minor": 2
}
